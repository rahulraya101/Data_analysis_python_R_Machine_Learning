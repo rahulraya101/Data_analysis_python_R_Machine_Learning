{
 "cells": [
  {
   "cell_type": "markdown",
   "metadata": {},
   "source": [
    "# Introduction to Python programming - Part III"
   ]
  },
  {
   "cell_type": "markdown",
   "metadata": {},
   "source": [
    "## Why Functions?\n",
    "The purpose of today’s class is to introduce the basics of writing and running Python functions.\n",
    " * It is easy to find a mistake and forget to fix it in all copies of the same code.\n",
    "\n",
    "Programmer’s motto: **DRY – don’t repeat yourself**.\n",
    " * Define it once and use it multiple times.\n",
    " * Functions are extremely useful for writing complex programs:\n",
    " * They divide complex operations into a combination of simpler steps.\n",
    " * They make programs easier to read and debug by abstracting out frequently repeated code."
   ]
  },
  {
   "cell_type": "markdown",
   "metadata": {},
   "source": [
    "## Functions\n",
    "\n",
    " * Takes as input one or more arguments.\n",
    " * Computes a new value, a string or a number.\n",
    " * Returns the value, so that it can be assigned to a variable or output.\n",
    "\n",
    "Let’s see this with a built-in function:\n",
    "\n",
    "```\n",
    ">>> len('Monthy Python')\n",
    "13\n",
    "```\n",
    "Can you identify the input argument, the computation and the returned value?\n",
    "\n",
    "So far, you've learned about objects and methods. Now it's time to look at a few functions. They're very similar to methods in that they perform an action, but unlike methods, functions are not tied to specific objects.\n",
    "\n",
    "Functions typically go in front of an object name (with the object wrapped in parentheses), whereas a method is appended to the end of an object name using dit notation. For example, compare `open(window)` with `window.open()`.\n",
    "\n"
   ]
  },
  {
   "cell_type": "markdown",
   "metadata": {},
   "source": [
    "A function in Python is defined using the keyword `def`, followed by a function name, a signature within parentheses `()`, and a colon `:`. The following code, with one additional level of indentation, is the function body.\n",
    "\n",
    "You might write a function to calculate the area of a circle as:\n",
    "\n",
    "$$a(r) = \\pi r^2$$\n",
    "\n",
    "In Python, when typing directly into the interpreter, we write:"
   ]
  },
  {
   "cell_type": "code",
   "execution_count": null,
   "metadata": {},
   "outputs": [],
   "source": [
    "def area_circle(radius):\n",
    "    pi = 3.14159\n",
    "    area = pi * radius**2\n",
    "    return area"
   ]
  },
  {
   "cell_type": "markdown",
   "metadata": {},
   "source": [
    "Then we can run this using"
   ]
  },
  {
   "cell_type": "code",
   "execution_count": null,
   "metadata": {},
   "outputs": [],
   "source": [
    "area_circle(1)"
   ]
  },
  {
   "cell_type": "code",
   "execution_count": null,
   "metadata": {},
   "outputs": [],
   "source": [
    "area_circle(2)"
   ]
  },
  {
   "cell_type": "code",
   "execution_count": null,
   "metadata": {},
   "outputs": [],
   "source": [
    "r = 75.1\n",
    "area_circle(r)"
   ]
  },
  {
   "cell_type": "markdown",
   "metadata": {},
   "source": [
    "## Flow of Control\n",
    "To re-iterate, the “flow of control” of Python here involves\n",
    " * Reading the function definition without executing\n",
    " * Seeing a ‘’call’’ to the function, jumping up to the start of the function and executing\n",
    " * Returning back to the place in the program that called the function and continuing.\n",
    "\n",
    "Functions can compute many different things and return any data type Python supports.\n",
    "\n",
    "## Arguments, Parameters and Local Variables\n",
    " * *Arguments* are the values 1, 2 and 75.1 in our above examples.\n",
    " * These are each passed to the parameter called `radius` named in the function header. This parameter is used just like a variable in the function.\n",
    " * The variable `pi` and `area` are *local variables* to the function (though we should probably use the `math` module for pi in the future).\n",
    " * Neither `pi` nor `radius` or `area` exists at the top / main level. At this level, they are ‘’undefined variables’‘. Try it out."
   ]
  },
  {
   "cell_type": "markdown",
   "metadata": {},
   "source": [
    "Optionally, but highly recommended, we can define a so called \"docstring\", which is a description of the functions purpose and behaivor. The docstring should follow directly after the function definition, before the code in the function body. Functions that returns a value use the `return` keyword:"
   ]
  },
  {
   "cell_type": "code",
   "execution_count": null,
   "metadata": {},
   "outputs": [],
   "source": [
    "def square(x):\n",
    "    \"\"\"\n",
    "    Return the square of x.\n",
    "    \"\"\"\n",
    "    return x ** 2"
   ]
  },
  {
   "cell_type": "code",
   "execution_count": null,
   "metadata": {},
   "outputs": [],
   "source": [
    "square(4)"
   ]
  },
  {
   "cell_type": "code",
   "execution_count": null,
   "metadata": {},
   "outputs": [],
   "source": [
    "def unique_char(s: str) -> int:\n",
    "    \"\"\"\n",
    "    Returns number of unique characters in string excluding whitespaces\n",
    "    \"\"\"\n",
    "    import string \n",
    "    \n",
    "    char_set = set(s).difference(string.whitespace)\n",
    "    return len(char_set)"
   ]
  },
  {
   "cell_type": "code",
   "execution_count": null,
   "metadata": {},
   "outputs": [],
   "source": [
    "help(unique_char)"
   ]
  },
  {
   "cell_type": "code",
   "execution_count": null,
   "metadata": {},
   "outputs": [],
   "source": [
    "unique_char(\"Test my new function\")"
   ]
  },
  {
   "cell_type": "markdown",
   "metadata": {},
   "source": [
    "We can return multiple values from a function using tuples (see above):"
   ]
  },
  {
   "cell_type": "code",
   "execution_count": null,
   "metadata": {},
   "outputs": [],
   "source": [
    "def powers(x):\n",
    "    \"\"\"\n",
    "    Return a few powers of x.\n",
    "    \"\"\"\n",
    "    return x ** 2, x ** 3, x ** 4"
   ]
  },
  {
   "cell_type": "code",
   "execution_count": null,
   "metadata": {},
   "outputs": [],
   "source": [
    "powers(3)"
   ]
  },
  {
   "cell_type": "code",
   "execution_count": null,
   "metadata": {},
   "outputs": [],
   "source": [
    "x2, x3, x4 = powers(3)\n",
    "\n",
    "print(x3)"
   ]
  },
  {
   "cell_type": "markdown",
   "metadata": {},
   "source": [
    "### Default argument and keyword arguments"
   ]
  },
  {
   "cell_type": "markdown",
   "metadata": {},
   "source": [
    "In a definition of a function, we can give default values to the arguments the function takes:"
   ]
  },
  {
   "cell_type": "code",
   "execution_count": null,
   "metadata": {},
   "outputs": [],
   "source": [
    "def myfunc(x, p=2, debug=False):\n",
    "    if debug:\n",
    "        print(\"evaluating myfunc for x = \" + str(x) + \" using exponent p = \" + str(p))\n",
    "    return x**p"
   ]
  },
  {
   "cell_type": "markdown",
   "metadata": {},
   "source": [
    "If we don't provide a value of the `debug` argument when calling the the function `myfunc` it defaults to the value provided in the function definition:"
   ]
  },
  {
   "cell_type": "code",
   "execution_count": null,
   "metadata": {},
   "outputs": [],
   "source": [
    "myfunc(5)"
   ]
  },
  {
   "cell_type": "code",
   "execution_count": null,
   "metadata": {},
   "outputs": [],
   "source": [
    "myfunc(5, debug=True)"
   ]
  },
  {
   "cell_type": "markdown",
   "metadata": {},
   "source": [
    "If we explicitly list the name of the arguments in the function calls, they do not need to come in the same order as in the function definition. This is called *keyword* arguments, and is often very useful in functions that takes a lot of optional arguments."
   ]
  },
  {
   "cell_type": "code",
   "execution_count": null,
   "metadata": {},
   "outputs": [],
   "source": [
    "myfunc(p=3, debug=True, x=7)"
   ]
  },
  {
   "cell_type": "markdown",
   "metadata": {},
   "source": [
    "### Anonymous functions (lambda functions)"
   ]
  },
  {
   "cell_type": "markdown",
   "metadata": {},
   "source": [
    "In Python, an anonymous function is a function that is defined without a name.\n",
    "\n",
    "While normal functions are defined using the `def` keyword in Python, anonymous functions are defined using the `lambda` keyword. Hence, anonymous functions are also called lambda functions.\n",
    "\n",
    "A lambda function in python has the following syntax.\n",
    "\n",
    "```\n",
    "lambda arguments: expression\n",
    "```\n",
    "\n",
    "Lambda functions can have any number of arguments but only one expression. The expression is evaluated and returned. Lambda functions can be used wherever function objects are required."
   ]
  },
  {
   "cell_type": "code",
   "execution_count": null,
   "metadata": {},
   "outputs": [],
   "source": [
    "f1 = lambda x: x**2\n",
    "    \n",
    "# is equivalent to \n",
    "\n",
    "def f2(x):\n",
    "    return x**2"
   ]
  },
  {
   "cell_type": "code",
   "execution_count": null,
   "metadata": {},
   "outputs": [],
   "source": [
    "f1(2), f2(2)"
   ]
  },
  {
   "cell_type": "markdown",
   "metadata": {},
   "source": [
    "## Namespaces, Scope Resolution, and the LEGB Rule\n",
    "\n",
    "Where does Python look for variable names?\n",
    "\n",
    "Let us consider the following code:"
   ]
  },
  {
   "cell_type": "code",
   "execution_count": null,
   "metadata": {},
   "outputs": [],
   "source": [
    "a = 1\n",
    "\n",
    "def foo():\n",
    "    a = 5\n",
    "    print('var a is', a, 'in foo()')\n",
    "\n",
    "print('var a is', a, 'in global')\n",
    "\n",
    "foo()"
   ]
  },
  {
   "cell_type": "markdown",
   "metadata": {},
   "source": [
    "Here, we just defined the variable name `a` twice. So, how does Python know where it has to search if we want to print the value of the variable `a`? This is where Python’s namespaces, scope resolution, and the LEGB-rule comes into play.\n",
    "\n",
    "### Namespaces\n",
    "Roughly speaking, namespaces are just containers for mapping names to objects. As you might have already heard, everything in Python is an object. Such a “name-to-object” mapping allows us to access an object by a name that we’ve assigned to it. E.g., if we make a simple string assignment via `a_string = \"Hello string\"`, we created a reference to the `\"Hello string\"` object, and henceforth we can access via its variable name `a_string`.\n",
    "\n",
    "We can picture a namespace as a Python dictionary structure, where the dictionary keys represent the names and the dictionary values the object itself (and this is also how namespaces are currently implemented in Python).\n",
    "\n",
    "```python\n",
    "a_namespace = {'name_a':object_1, 'name_b':object_2, ...}\n",
    "```\n",
    "\n",
    "For example, everytime we define a function, it will create its own namespace. Namespaces also have different levels of hierarchy (the so-called “scope”)\n",
    "\n",
    "### Scope\n",
    "Namespaces can exist independently from each other and that they are structured in a certain hierarchy, which brings us to the concept of “scope”. The “scope” in Python defines the “hierarchy level” in which we search namespaces for certain “name-to-object” mappings.\n",
    "\n",
    "Let's modify a bit last example."
   ]
  },
  {
   "cell_type": "code",
   "execution_count": null,
   "metadata": {},
   "outputs": [],
   "source": [
    "a = 1\n",
    "b = 3\n",
    "\n",
    "def foo():\n",
    "    a = 5\n",
    "    print('Variables in local foo() namespace:')\n",
    "    print('  var a is', a)\n",
    "    print('  var b is', b)\n",
    "\n",
    "print('Variables in global namespace:')\n",
    "print('  var a is', a)\n",
    "print('  var b is', b)\n",
    "foo()"
   ]
  },
  {
   "cell_type": "markdown",
   "metadata": {},
   "source": [
    "#### Tip\n",
    "If we want to print out the dictionary mapping of the local or global variables, we can use the the functions `locals()` and `globals()`"
   ]
  },
  {
   "cell_type": "code",
   "execution_count": null,
   "metadata": {},
   "outputs": [],
   "source": [
    "glob = 1\n",
    "\n",
    "def foo():\n",
    "    loc = 5\n",
    "    print('loc in locals:', 'loc' in locals())\n",
    "    print('glob in locals:', 'glob' in locals())\n",
    "    print(locals() == globals())\n",
    "\n",
    "foo()\n",
    "print('loc in locals:', 'loc' in locals())\n",
    "print('glob in locals:', 'glob' in locals())\n",
    "print(locals() == globals())"
   ]
  },
  {
   "cell_type": "markdown",
   "metadata": {},
   "source": [
    "### Scope resolution for variable names via the LEGB rule\n",
    "\n",
    "Now, the question is: “In which order does Python search the different levels of namespaces before it finds the name-to-object’ mapping?”\n",
    "\n",
    "It uses the LEGB-rule, which stands for\n",
    "\n",
    "**Local -> Enclosed -> Global -> Built-in**,\n",
    "\n",
    "where the arrows should denote the direction of the namespace-hierarchy search order.\n",
    "\n",
    " * **Local** can be inside a function or class method, for example.\n",
    " * **Enclosed** can be its enclosing function, e.g., if a function is wrapped inside another function.\n",
    " * **Global** refers to the uppermost level of the executing script itself, and\n",
    " * **Built-in** are special names that Python reserves for itself.\n",
    "\n",
    "![](https://sebastianraschka.com/images/blog/2014/scope_resolution_legb_rule/scope_resolution_1.png)\n",
    "\n",
    "So, if a particular name:object mapping cannot be found in the local namespaces, the namespaces of the enclosed scope are being searched next. If the search in the enclosed scope is unsuccessful, too, Python moves on to the global namespace, and eventually, it will search the built-in namespace (side note: if a name cannot found in any of the namespaces, a `NameError` will is raised).\n",
    "\n",
    "#### Note:\n",
    "\n",
    "Namespaces can also be further nested, for example if we import modules, or if we are defining new classes. In those cases we have to use prefixes to access those nested namespaces."
   ]
  },
  {
   "cell_type": "markdown",
   "metadata": {},
   "source": [
    "## Python’s Script, Module, Package and Library\n",
    "\n",
    "If you quit from the Python interpreter and enter it again, the definitions you have made (functions and variables) are lost. Therefore, if you want to write a somewhat longer program, you are better off using a text editor to prepare the input for the interpreter and running it with that file as input instead. This is known as creating a **script**. As your program gets longer, you may want to split it into several files for easier maintenance. You may also want to use a handy function that you’ve written in several programs without copying its definition into each program.\n",
    "\n",
    "To support this, Python has a way to put definitions in a file and use them in a script or in an interactive instance of the interpreter. Such a file is called a **module**; definitions from a module can be **imported** into other modules or into the main module (the collection of variables that you have access to in a script executed at the top level and in calculator mode).\n",
    "\n",
    "**Module**: The module is a simple Python file that contains collections of functions and global variables and with having a .py extension file.\n",
    "\n",
    "Save the following code in file called demo_module.py\n",
    "\n",
    "```python\n",
    "def myFunc(name): \n",
    "    print(\"This is My function: \" + name)\n",
    "```\n",
    "\n",
    "Import module named demo_module and call myModule function inside it.\n",
    "\n",
    "```\n",
    "import demo_module \n",
    "  \n",
    "demo_module.myFunc(\"Monty\")\n",
    "```\n",
    "\n",
    "**Package**: The package is a simple directory having collections of modules. This directory contains Python modules and also having `__init__.py` file by which the interpreter interprets it as a Package. The package is simply a namespace. The package also contains sub-packages inside it.\n",
    "\n",
    "**Library**: The library is having a collection of related functionality of codes that allows you to perform many tasks without writing your code. It is a reusable chunk of code that we can use by importing it in our program, we can just use it by importing that library and calling the method of that library with period(.)."
   ]
  },
  {
   "cell_type": "markdown",
   "metadata": {},
   "source": [
    "## The Python Standard Library \n",
    "\n",
    "The Python Standard Library is a large collection of modules that provides *cross-platform* implementations of common facilities such as access to the operating system, file I/O, string management, network communication, and much more.\n",
    "\n",
    "<img src=\"https://i2.wp.com/ajaytech.co/wp-content/uploads/2019/05/python-3rd-party-libraries.png\" width=\"640\">"
   ]
  },
  {
   "cell_type": "markdown",
   "metadata": {},
   "source": [
    "### References"
   ]
  },
  {
   "cell_type": "markdown",
   "metadata": {},
   "source": [
    " * The Python 3 Language Reference: https://docs.python.org/3/reference/index.html\n",
    " * The Python 3 Standard Library: https://docs.python.org/3/library/\n",
    "\n",
    "To use a module in a Python program it first has to be imported. A module can be imported using the `import` statement. For example, to import the module `math`, which contains many standard mathematical functions, we can do:"
   ]
  },
  {
   "cell_type": "code",
   "execution_count": null,
   "metadata": {},
   "outputs": [],
   "source": [
    "from math import cos, sin, pi"
   ]
  },
  {
   "cell_type": "code",
   "execution_count": null,
   "metadata": {},
   "outputs": [],
   "source": [
    "cos(2*pi)"
   ]
  },
  {
   "cell_type": "markdown",
   "metadata": {},
   "source": [
    "This includes the whole module and makes it available for use later in the program. For example, we can do:"
   ]
  },
  {
   "cell_type": "code",
   "execution_count": null,
   "metadata": {},
   "outputs": [],
   "source": [
    "import math\n",
    "\n",
    "x = math.cos(2 * math.pi)\n",
    "\n",
    "print(x)"
   ]
  },
  {
   "cell_type": "markdown",
   "metadata": {},
   "source": [
    "Alternatively, we can chose to import all symbols (functions and variables) in a module to the current namespace (so that we don't need to use the prefix `math.` every time we use something from the `math` module:"
   ]
  },
  {
   "cell_type": "code",
   "execution_count": null,
   "metadata": {},
   "outputs": [],
   "source": [
    "from math import *\n",
    "\n",
    "x = cos(2 * pi)\n",
    "\n",
    "print(x)"
   ]
  },
  {
   "cell_type": "markdown",
   "metadata": {},
   "source": [
    "This pattern can be very convenient, but in large programs that include many modules it is often a good idea to keep the symbols from each module in their own namespaces, by using the `import a_module` or `import a_module as alias` pattern. This would elminate potentially confusing problems with name space collisions."
   ]
  },
  {
   "cell_type": "code",
   "execution_count": null,
   "metadata": {},
   "outputs": [],
   "source": [
    "import numpy\n",
    "import math\n",
    "import scipy\n",
    "\n",
    "print(math.pi, 'from the math module')\n",
    "print(numpy.pi, 'from the numpy package')\n",
    "print(scipy.pi, 'from the scipy package')"
   ]
  },
  {
   "cell_type": "markdown",
   "metadata": {},
   "source": [
    "This is also why we have to be careful if we import modules via `from a_module import *`, since it loads the variable names into the global namespace and could potentially overwrite already existing variable names.\n",
    "\n",
    "As a third alternative, we can chose to import only a few selected symbols from a module by explicitly listing which ones we want to import instead of using the wildcard character `*`:"
   ]
  },
  {
   "cell_type": "code",
   "execution_count": null,
   "metadata": {},
   "outputs": [],
   "source": [
    "from math import cos, pi\n",
    "\n",
    "x = cos(2 * pi)\n",
    "\n",
    "print(x)"
   ]
  },
  {
   "cell_type": "markdown",
   "metadata": {},
   "source": [
    "### Looking at what a module contains, and its documentation"
   ]
  },
  {
   "cell_type": "markdown",
   "metadata": {},
   "source": [
    "Once a module is imported, we can list the symbols it provides using the `dir` function:"
   ]
  },
  {
   "cell_type": "code",
   "execution_count": null,
   "metadata": {},
   "outputs": [],
   "source": [
    "import math\n",
    "\n",
    "print(dir(math))"
   ]
  },
  {
   "cell_type": "markdown",
   "metadata": {},
   "source": [
    "And using the function `help` we can get a description of each function (almost .. not all functions have docstrings, as they are technically called, but the vast majority of functions are documented this way). "
   ]
  },
  {
   "cell_type": "code",
   "execution_count": null,
   "metadata": {},
   "outputs": [],
   "source": [
    "help(math.log)"
   ]
  },
  {
   "cell_type": "code",
   "execution_count": null,
   "metadata": {},
   "outputs": [],
   "source": [
    "math.log(10)"
   ]
  },
  {
   "cell_type": "code",
   "execution_count": null,
   "metadata": {},
   "outputs": [],
   "source": [
    "math.log(10, 2)"
   ]
  },
  {
   "cell_type": "markdown",
   "metadata": {},
   "source": [
    "We can also use the `help` function directly on modules: Try\n",
    "\n",
    "    help(math) \n",
    "\n",
    "Some very useful modules form the Python Standard Library are `os`, `sys`, `math`, `shutil`, `re`, `zipfile`, `random`, 'time', 'datetime', 'csv', ...\n",
    "\n",
    "[Check few of them with usage examples](https://towardsdatascience.com/the-python-standard-library-modules-you-should-know-as-a-data-scientist-47e1117ca6c8 \"Modules you should know\")."
   ]
  },
  {
   "cell_type": "code",
   "execution_count": null,
   "metadata": {},
   "outputs": [],
   "source": [
    "import this"
   ]
  }
 ],
 "metadata": {
  "kernelspec": {
   "display_name": "Python 3",
   "language": "python",
   "name": "python3"
  },
  "language_info": {
   "codemirror_mode": {
    "name": "ipython",
    "version": 3
   },
   "file_extension": ".py",
   "mimetype": "text/x-python",
   "name": "python",
   "nbconvert_exporter": "python",
   "pygments_lexer": "ipython3",
   "version": "3.8.5"
  }
 },
 "nbformat": 4,
 "nbformat_minor": 4
}
