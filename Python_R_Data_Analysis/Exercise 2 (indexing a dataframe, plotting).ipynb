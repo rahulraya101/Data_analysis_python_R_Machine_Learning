{
 "cells": [
  {
   "cell_type": "markdown",
   "metadata": {},
   "source": [
    "# Exercise 2"
   ]
  },
  {
   "cell_type": "markdown",
   "metadata": {},
   "source": [
    "<img src=\"images/exercise-icon.png\" style=\"float:left;width:40px;height:40px;\">\n",
    "The file `sazava.data` contains whole-rock major- and trace-element analyses for granitoid rocks from the Variscan Sázava suite of the Central Bohemian Plutonic Complex. \n",
    "<div style=\"text-align: right\"> \n",
    "<img src=\"images/floppy.png\" style=\"float:right;width:30px;height:30px;\">\n",
    "sazava.data </div>"
   ]
  },
  {
   "cell_type": "markdown",
   "metadata": {},
   "source": [
    "* Read into matrix `WR` analyses stored in tab-delimited data text file `sazava.data`. \n",
    "* Display a table with three columns: SiO<sub>2</sub>, MgO and Na<sub>2</sub>O/K<sub>2</sub>O (using the function `cbind`; do not forget to label the columns correctly).\n",
    "* Plot all the possible combinations of binary diagrams for the following major-element oxides: SiO<sub>2</sub>, MgO, FeO, Fe<sub>2</sub>O<sub>3</sub>, CaO, P<sub>2</sub>O<sub>5</sub> \n",
    "* Build a binary plot SiO<sub>2</sub>–CaO, choose suitable ranges for the x and y axes, label them and annotate plotted data points by sample names. Plot two versions, in one all the data points as dark blue squares, in the second assign the plotting symbols according to individual rock types (utilizing the data in the column `WR[,”Symbol”]`). Plot the line SiO<sub>2</sub>/CaO = 10 passing through the origin.\n",
    "* Display boxplot denoting distribution of strontium, and find out all the main statistical parameters characterizing its distribution (the range, median, number of observations and not determined cases, …). Plot the Sr data also as a frequency histogram.\n",
    "* Create a new matrix x, containing only samples, whose SiO<sub>2</sub> > 55 \n",
    "* Plot diagram SiO<sub>2</sub>–CaO for these samples (set double size of the plotting symbols) and fit the data points by a straight line using the least squares linear regression."
   ]
  },
  {
   "cell_type": "markdown",
   "metadata": {},
   "source": [
    "*NB* Setting the final size of the graphical window to 5 by 5 in Jupyter notebook for aesthetics sake:\n",
    "\n",
    "`options(repr.plot.width=5, repr.plot.height=5)`"
   ]
  },
  {
   "cell_type": "code",
   "execution_count": null,
   "metadata": {},
   "outputs": [],
   "source": []
  }
 ],
 "metadata": {
  "kernelspec": {
   "display_name": "R",
   "language": "R",
   "name": "ir"
  },
  "language_info": {
   "codemirror_mode": "r",
   "file_extension": ".r",
   "mimetype": "text/x-r-source",
   "name": "R",
   "pygments_lexer": "r",
   "version": "4.0.0"
  }
 },
 "nbformat": 4,
 "nbformat_minor": 1
}
