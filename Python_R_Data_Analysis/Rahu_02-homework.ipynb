{
 "cells": [
  {
   "cell_type": "markdown",
   "metadata": {},
   "source": [
    "# Python Homework I"
   ]
  },
  {
   "cell_type": "markdown",
   "metadata": {},
   "source": [
    "## Programming a mathematical formula\n",
    "\n",
    "### A ball in vertical motion\n",
    "\n",
    "Here is a formula for the position of a ball in vertical motion, starting at ground level (i.e. $y=0$) at time $t=0$:\n",
    "\n",
    "$$ y(t) = v_0t- \\frac{1}{2}gt^2 $$ where:\n",
    "\n",
    "* $y$ is the height (position) as a function of time $t$\n",
    "* $v_0$ is the initial velocity (at $t=0$)\n",
    "* $g$ is the acceleration due to gravity\n",
    "\n",
    "The computational task: Given $v_0$, $g$ and $t$, compute the value $y$.\n",
    "\n",
    "**How do we program this task?** A program is a sequence of instructions given to the computer. However, while a programming language is much **simpler** than a natural language, it is more **pedantic**. Programs must have correct syntax, i.e., correct use of the computer language grammar rules, and no misprints.\n",
    "\n",
    "So let's execute a Python statement based on this example. $y$ for $v_0=5$, $g=9.81$ and $t=0.6$. If you were doing this on paper you would probably write something like this:\n",
    "\n",
    "$$ y = 5\\cdot 0.6 - {1\\over2}\\cdot 9.81 \\cdot 0.6^2.$$ Happily, writing this in Python is very similar:"
   ]
  },
  {
   "cell_type": "code",
   "execution_count": 1,
   "metadata": {},
   "outputs": [
    {
     "name": "stdout",
     "output_type": "stream",
     "text": [
      "The height of a ball after 0.6 seconds is 1.2342 meters.\n"
     ]
    }
   ],
   "source": [
    "v0 = 5\n",
    "g = 9.81\n",
    "t = 0.6\n",
    "\n",
    "y = (v0*t)-(0.5*g*(0.6)**2)\n",
    "\n",
    "print(\"The height of a ball after {} seconds is {} meters.\".format(t, y))"
   ]
  },
  {
   "cell_type": "markdown",
   "metadata": {},
   "source": [
    "### Compute the growth of money in a bank\n",
    "Let *p* be a bank's interest rate in percent per year. An initial amount *A* has then grown to\n",
    "\n",
    "$$A\\left(1+\\frac{p}{100}\\right)^n$$\n",
    "\n",
    "after *n* years. Write a program for computing how much money 1000 euros have grown to after three years with a 5% interest rate."
   ]
  },
  {
   "cell_type": "code",
   "execution_count": 2,
   "metadata": {},
   "outputs": [
    {
     "name": "stdout",
     "output_type": "stream",
     "text": [
      "The amount of money in the account after 3 years is: 1157.63 euros\n"
     ]
    }
   ],
   "source": [
    "p = 5 # Interest rate in percent per year\n",
    "A = 1000 # Initial amount of money in euros\n",
    "n = 3 # Number of years since initial deposit\n",
    "\n",
    "amount = A*(1+(p/100))**n\n",
    "\n",
    "print(\"The amount of money in the account after {} years is: {:.2f} euros\".format(n, amount))"
   ]
  },
  {
   "cell_type": "markdown",
   "metadata": {},
   "source": [
    "## Find greatest number\n",
    "Create program using if-else statements, which print name of variable containing greatest number. Variables `a`, `b` and `c` are populated by random numbers."
   ]
  },
  {
   "cell_type": "code",
   "execution_count": 14,
   "metadata": {},
   "outputs": [],
   "source": [
    "from random import randint  # function to get random integer"
   ]
  },
  {
   "cell_type": "code",
   "execution_count": 27,
   "metadata": {},
   "outputs": [
    {
     "name": "stdout",
     "output_type": "stream",
     "text": [
      "a=42 b=92 c=76\n",
      "max in b 92\n"
     ]
    }
   ],
   "source": [
    "a = randint(0, 100)\n",
    "b = randint(0, 100)\n",
    "c = randint(0, 100)\n",
    "print(\"a={} b={} c={}\".format(a, b, c))\n",
    "# here place the code which will print e.g. \"Greatest value is stored in variable b\" based on actual values\n",
    "\n",
    "if a>b:\n",
    "    if a>c:\n",
    "        print('max in a', a)\n",
    "    elif a<c:\n",
    "        print('max in c', c)\n",
    "    else:\n",
    "        print('max in a and c', a)\n",
    "elif b>a:\n",
    "    if b>c:\n",
    "        print('max in b', b)\n",
    "    elif b<c:\n",
    "        print('max in c', c)\n",
    "    else:\n",
    "        print('max in b and c', b)\n",
    "else:\n",
    "    if a>c:\n",
    "        print('max in a and b', b)\n",
    "    elif a<c:\n",
    "        print('max in c', c)\n",
    "    else:\n",
    "        print('max in a, b and c', a)\n",
    "        \n"
   ]
  },
  {
   "cell_type": "markdown",
   "metadata": {},
   "source": [
    "## How to cook the perfect egg\n",
    "As an egg cooks, the proteins first denature and then coagulate. When the temperature exceeds a critical point, reactions begin and proceed faster as the temperature increases. In the egg white the proteins start to coagulate for temperatures above 63°C, while in the yolk the proteins start to coagulate for temperatures above 70°C. For a soft boiled egg, the white needs to have been heated long enough to coagulate at a temperature above 63°C, but the yolk should not be heated above 70°C. For a hard boiled egg, the center of the yolk should be allowed to reach 70°C. The following formula expresses the time $t$ it takes (in seconds) for the center of the yolk to reach the temperature $T_y$ (in Celsius degrees):\n",
    "\n",
    "$$t = \\frac{M^{2/3}c\\rho^{1/3}}{K\\pi^2(4\\pi/3)^{2/3}}\\ln\\left[0.76\\frac{T_o - T_w}{T_y - T_w}\\right]$$\n",
    "\n",
    "Here, $M, \\rho, c$ and $K$ are properties of the egg: $M$ is the mass, $\\rho$ is the density, $c$ is the specific heat capacity, and $K$ is thermal conductivity. Relevant values are $M$ = 47 g for a small egg and $M$ = 67 g for a large egg, $\\rho$ = 1.038 g cm$^{-3}$, $c$ = 3.7 J g$^{-1}$K$^{-1}$, and $K$ = 5.4 $\\times$ 10$^{-3}$ W cm$^{-1}$ K$^{-1}$. Furthermore, $T_w$ is the temperature (in C degrees) of the boiling water, and $T_o$ is the original temperature (in C degrees) of the egg before being put in the water.\n",
    "\n",
    "Implement the formula in a program, set $T_w$ = 100°C and $T_y$ = 70°C, and compute $t$ for a small and large egg taken from the fridge ($T_o$ = 4°C) and from room temperature ($T_o$ = 20°C)."
   ]
  },
  {
   "cell_type": "code",
   "execution_count": 21,
   "metadata": {},
   "outputs": [
    {
     "name": "stdout",
     "output_type": "stream",
     "text": [
      "Time required for perfect 67g egg when To = 4°C is 396.58 seconds.\n",
      "Time required for perfect 67g egg when To = 20°C is 315.22 seconds.\n"
     ]
    }
   ],
   "source": [
    "from math import pi, log\n",
    "\n",
    "Tw = 100    # C Temperature of the water\n",
    "Ty = 70     # C Desired temperature of the yolk\n",
    "rho = 1.038 # g cm^{-3}\n",
    "M = 67      # g\n",
    "K = 5.4e-3  # W cm^{-1} K^{-1}\n",
    "c = 3.7     # J g^{-1} K^{-1}\n",
    "\n",
    "for To in [4, 20]:\n",
    "    for M in [47, 67]:\n",
    "        my_log = log(0.76*(To - Tw)/(Ty-Tw))\n",
    "        my_up_v1 = M ** (2/3) * c * rho ** (1/3) \n",
    "        my_low_v2 = K * pi ** 2 *((4 * pi)/3) ** (2/3)\n",
    "        t = ( (my_up_v1)/(my_low_v2) )*my_log\n",
    "    print(\"Time required for perfect {}g egg when To = {}°C is {:.2f} seconds.\".format(M, To, t))"
   ]
  }
 ],
 "metadata": {
  "kernelspec": {
   "display_name": "Python 3",
   "language": "python",
   "name": "python3"
  },
  "language_info": {
   "codemirror_mode": {
    "name": "ipython",
    "version": 3
   },
   "file_extension": ".py",
   "mimetype": "text/x-python",
   "name": "python",
   "nbconvert_exporter": "python",
   "pygments_lexer": "ipython3",
   "version": "3.8.5"
  }
 },
 "nbformat": 4,
 "nbformat_minor": 4
}
