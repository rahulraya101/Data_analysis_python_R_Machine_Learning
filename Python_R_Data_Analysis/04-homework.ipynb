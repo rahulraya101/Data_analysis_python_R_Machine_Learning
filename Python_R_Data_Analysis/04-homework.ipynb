{
 "cells": [
  {
   "cell_type": "markdown",
   "metadata": {},
   "source": [
    "# Python Homework III"
   ]
  },
  {
   "cell_type": "code",
   "execution_count": null,
   "metadata": {},
   "outputs": [],
   "source": [
    "%pylab inline"
   ]
  },
  {
   "cell_type": "markdown",
   "metadata": {},
   "source": [
    "### Checkboard"
   ]
  },
  {
   "cell_type": "markdown",
   "metadata": {},
   "source": [
    "You have a 8x8 2D array Z. Using strides in indexes, fill it with a ones in checkerboard pattern, so the last commenad will show nice chess board."
   ]
  },
  {
   "cell_type": "code",
   "execution_count": null,
   "metadata": {},
   "outputs": [],
   "source": [
    "Z = zeros((8, 8), dtype=int)\n",
    "# code here\n",
    "imshow(Z);"
   ]
  },
  {
   "cell_type": "markdown",
   "metadata": {},
   "source": [
    "### One sigma range"
   ]
  },
  {
   "cell_type": "markdown",
   "metadata": {},
   "source": [
    "Create numpy array `x` of 200 evenly spaced numbers over a interval \\[-10, 10\\] raised to 3rd power. Find out how many numbers in `x` array are within 1σ range, i.e -σ < x < σ. Store result into variable `n`"
   ]
  },
  {
   "cell_type": "code",
   "execution_count": null,
   "metadata": {},
   "outputs": [],
   "source": [
    "x = \n",
    "# code here\n",
    "n = \n",
    "print(f'There is {n} numbers within one sigma range')"
   ]
  },
  {
   "cell_type": "markdown",
   "metadata": {},
   "source": [
    "#### Array manipulation"
   ]
  },
  {
   "cell_type": "markdown",
   "metadata": {},
   "source": [
    "Given a 1D array `Z`, negate all elements which are greater than 3 and smaller than 8."
   ]
  },
  {
   "cell_type": "code",
   "execution_count": null,
   "metadata": {},
   "outputs": [],
   "source": [
    "Z = arange(11)\n",
    "# code here\n",
    "print(Z)"
   ]
  },
  {
   "cell_type": "markdown",
   "metadata": {},
   "source": [
    "#### Prague temperatures"
   ]
  },
  {
   "cell_type": "code",
   "execution_count": null,
   "metadata": {},
   "outputs": [],
   "source": [
    "dt = loadtxt('clementinum.csv', skiprows=1, delimiter=',')\n",
    "year, month, day = dt[:, :3].T.astype(int)\n",
    "t_avg, t_max, t_min, prec = dt[:, 3:].T"
   ]
  },
  {
   "cell_type": "code",
   "execution_count": null,
   "metadata": {},
   "outputs": [],
   "source": [
    "for y in range(1920, 2020):\n",
    "    # Calculate mean from t_avg values for year y and store into yat variable\n",
    "    # code here\n",
    "    print(f'Average annual temperature in {y} was {yat:5.2f}°C')"
   ]
  },
  {
   "cell_type": "code",
   "execution_count": null,
   "metadata": {},
   "outputs": [],
   "source": [
    "names = {\n",
    "    1:'Jan', 2:'Feb', 3:'Mar',  4:'Apr',  5:'May',  6:'Jun',\n",
    "    7:'Jul', 8:'Aug', 9:'Sep', 10:'Oct', 11:'Nov', 12:'Dec'\n",
    "    }\n",
    "for m in range(1, 13):\n",
    "    # Calculate mean from t_avg values for month m and store into mat variable\n",
    "    # code here\n",
    "    print(f'Average  temperature in {names[m]} during last 100 years was {mat:5.2f}°C')"
   ]
  },
  {
   "cell_type": "markdown",
   "metadata": {},
   "source": [
    "#### Reading the code\n",
    "Try to find out what the following code do.\n",
    " - What are the resulting numbers?\n",
    " - Do you know the name of this algorithm?"
   ]
  },
  {
   "cell_type": "code",
   "execution_count": null,
   "metadata": {},
   "outputs": [],
   "source": [
    "N = 1000\n",
    "v = 1\n",
    "a = arange(2, N)\n",
    "while v < sqrt(N):\n",
    "    v = a[a>v][0]\n",
    "    for to_del in v * arange(2, N/v):\n",
    "        a[a == to_del] = 0\n",
    "print(a[a > 0])"
   ]
  },
  {
   "cell_type": "code",
   "execution_count": null,
   "metadata": {},
   "outputs": [],
   "source": []
  }
 ],
 "metadata": {
  "kernelspec": {
   "display_name": "Python 3",
   "language": "python",
   "name": "python3"
  },
  "language_info": {
   "codemirror_mode": {
    "name": "ipython",
    "version": 3
   },
   "file_extension": ".py",
   "mimetype": "text/x-python",
   "name": "python",
   "nbconvert_exporter": "python",
   "pygments_lexer": "ipython3",
   "version": "3.8.5"
  }
 },
 "nbformat": 4,
 "nbformat_minor": 4
}
