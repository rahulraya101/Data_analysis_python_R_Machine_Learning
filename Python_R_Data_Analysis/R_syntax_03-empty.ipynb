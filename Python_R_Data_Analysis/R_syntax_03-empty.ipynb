{
 "cells": [
  {
   "cell_type": "markdown",
   "metadata": {},
   "source": [
    "# R syntax in a nutshell – Part III\n",
    "* 1.10 Factors\n",
    "* 1.11 Data input/output, files"
   ]
  },
  {
   "cell_type": "markdown",
   "metadata": {},
   "source": [
    "## 1.10\t Factors\n",
    "Factors are vector objects used for discrete classification (grouping) of components in other vectors of the same length, matrices or data frames. In statistical applications, these often serve to store categorical variables. \n",
    "### 1.10.1\tBasic usage of factors\n",
    "#### factor(x)\n",
    "The (unordered) factors are set by the function `factor` where `x` is a vector of data, usually containing a small number of discrete values (known as `levels`). In this case the levels are stored in alphabetical order. For instance:"
   ]
  },
  {
   "cell_type": "code",
   "execution_count": null,
   "metadata": {},
   "outputs": [],
   "source": [
    "x <- c(\"Pl\",\"Bt\",\"Pl\",\"Pl\",\"Kfs\",\"Pl\",\"Bt\",\"Pl\",NA)\n",
    "x.un <- factor(x)\n",
    "print(x.un)"
   ]
  },
  {
   "cell_type": "markdown",
   "metadata": {},
   "source": [
    "#### ordered(x, levels)\n",
    "This function defines a special type of factor in which the order of levels is defined explicitly using the namesake parameter:"
   ]
  },
  {
   "cell_type": "code",
   "execution_count": null,
   "metadata": {},
   "outputs": [],
   "source": [
    "x.or <- ordered(x,levels=c(\"Pl\",\"Kfs\",\"Bt\"))\n",
    "print(x.or)"
   ]
  },
  {
   "cell_type": "markdown",
   "metadata": {},
   "source": [
    "#### levels(x)\n",
    "Returns all possible values (levels) of the factor `x`. "
   ]
  },
  {
   "cell_type": "code",
   "execution_count": null,
   "metadata": {},
   "outputs": [],
   "source": [
    "levels(x.un)\n",
    "levels(x.or)"
   ]
  },
  {
   "cell_type": "markdown",
   "metadata": {},
   "source": [
    "<img src=\"images/exercise-icon.png\" style=\"float:left;width:40px;height:40px;\">\n",
    "The data frame `ToothGrowth` portrays response in the teeth length of 10 guinea pigs to each of three dose levels of Vitamin C (0.5, 1, and 2 mg) supplied by two delivery methods (orange juice, `OJ` or ascorbic acid, `VC`). It contains 60 observations on 3 variables."
   ]
  },
  {
   "cell_type": "code",
   "execution_count": null,
   "metadata": {},
   "outputs": [],
   "source": [
    "data(ToothGrowth)\n",
    "head(ToothGrowth) # print just a few observations"
   ]
  },
  {
   "cell_type": "markdown",
   "metadata": {},
   "source": [
    "We can define a factor `method` that shows the Vitamin C supplement method."
   ]
  },
  {
   "cell_type": "code",
   "execution_count": null,
   "metadata": {},
   "outputs": [],
   "source": [
    "method <- factor(ToothGrowth[,\"supp\"])\n",
    "print(method)"
   ]
  },
  {
   "cell_type": "markdown",
   "metadata": {},
   "source": [
    "Possible values of the factor method are displayed directly using the function `levels`:"
   ]
  },
  {
   "cell_type": "code",
   "execution_count": null,
   "metadata": {},
   "outputs": [],
   "source": [
    "levels(method)"
   ]
  },
  {
   "cell_type": "markdown",
   "metadata": {},
   "source": [
    "### 1.10.2\tCalculations using factors\n",
    "The factor can be now used for instance to calculate the mean tooth length for each group (“OJ” and “VC”) separately. This is done using the function: \n",
    "#### tapply (x, index, fun):\n",
    "where `x` is a vector, `index` a factor (or list of two factors) and `fun` a function to be applied."
   ]
  },
  {
   "cell_type": "code",
   "execution_count": null,
   "metadata": {},
   "outputs": [],
   "source": [
    "ee <- tapply(ToothGrowth[,\"len\"],method,mean)\n",
    "print(ee)"
   ]
  },
  {
   "cell_type": "code",
   "execution_count": null,
   "metadata": {},
   "outputs": [],
   "source": [
    "dose <- factor(ToothGrowth[,\"dose\"])\n",
    "ee <- tapply(ToothGrowth[,\"len\"],list(suppl_method=method,mg=dose),mean)\n",
    "print(ee)"
   ]
  },
  {
   "cell_type": "markdown",
   "metadata": {},
   "source": [
    "### 1.10.2\tClassification: conversion of numeric vectors to factors\n",
    "In some cases it is advantageous to divide the total range of a numeric vector `x` into a certain number of discrete ranks (groups), and classify the values in `x` according to the rank they fall into. If each of these ranks is labelled by the identifying text, the result is a factor of the same length as the original vector. \n",
    "#### cut (x, breaks, labels)\n",
    "The function splits the numeric vector `x` into given number of ranks and codes its items according to the rank they fall into. \n",
    "The parameter `breaks` either defines the cut off points or specifies the desired number of intervals. \n",
    "Parameter `labels` may provide optional names for individual ranks. "
   ]
  },
  {
   "cell_type": "code",
   "execution_count": null,
   "metadata": {},
   "outputs": [],
   "source": [
    "max(ToothGrowth[,\"len\"])\n",
    "# So let's split into 4 groups, 0-10, 10-20, 20-30, 30-40\n",
    "tooth.length <- cut(ToothGrowth[,\"len\"],breaks=10*(0:4),labels=c(\"Short\",\"Normal\",\"Long\",\"Superlong\"))\n",
    "print(tooth.length)"
   ]
  },
  {
   "cell_type": "markdown",
   "metadata": {},
   "source": [
    "### 1.10.3\tFrequency tables\n",
    "#### table(f1,f2)\n",
    "The function `table` allows frequency tables to be calculated from equal-length factors `f1` and `f2`. "
   ]
  },
  {
   "cell_type": "markdown",
   "metadata": {},
   "source": [
    "We can now define two factors, e.g. a factor `method`, reflecting the Vitamin C supplement type, and a factor `teeth`, classifying the teeth length:"
   ]
  },
  {
   "cell_type": "code",
   "execution_count": null,
   "metadata": {},
   "outputs": [],
   "source": [
    "method <- factor(ToothGrowth[,\"supp\"])\n",
    "teeth <- factor(tooth.length)"
   ]
  },
  {
   "cell_type": "markdown",
   "metadata": {},
   "source": [
    "Finally we can generate a frequency table showing the distribution of teeth lengths depending on the Vitamin C supplement method:"
   ]
  },
  {
   "cell_type": "code",
   "execution_count": null,
   "metadata": {},
   "outputs": [],
   "source": [
    "table(suppl_method=method,length=teeth)"
   ]
  },
  {
   "cell_type": "markdown",
   "metadata": {
    "scrolled": true
   },
   "source": [
    "## 1.11\tData input/output, files\n",
    "### 1.11.1\tReading data\n",
    "The tools for data handling and editing available in R are fairly limited and thus it is a good idea to prepare them beforehand in a dedicated application, such as a spreadsheet or database program.\n",
    "Several packages are available on CRAN to help communicate with databases using the SQL language or the ODBC (Open Database Connectivity Application Programming Interface, API). \n",
    "\n",
    "Moreover there is a package interfacing to Windows applications (including MS Excel) via the DCOM interface. If you require any of these sophisticated tools, see the “R Data Import/Export” pdf file in documentation."
   ]
  },
  {
   "cell_type": "markdown",
   "metadata": {},
   "source": [
    "In many situations it will be sufficient to import plain text files. The most powerful of the functions available for this purpose is:\n",
    "#### read.table(filename, header = FALSE, sep = \"\", na.strings = \"NA\", check.names = TRUE, quote = \"\\\"'\", dec = \".\", fill = !blank.lines.skip)\n",
    "This function imports a data file specified by `filename`, in which the individual items are separated by separator `sep`. The common separators are `\",\"` – comma, `\"\\t\"` – tab, and `\"\\n\"` – new line. The parameter `dec` specifies a character interpreted as a decimal point. Note that the result is a data frame (and not a matrix), even if the file contains only numerical values. \n",
    "\n",
    "If matrix operations are to be employed, the data object must be thus explicitly converted. \n",
    "\n",
    "Unless the full path is specified, the file is searched in the current working directory. The directory can be queried with the `getwd()` command and set with the `setwd(dir)` function or the menu option `File|Change dir...`"
   ]
  },
  {
   "cell_type": "markdown",
   "metadata": {},
   "source": [
    "A parameter worth resetting to `FALSE` is `check.names` as it determines whether the row and column names are to be syntactically checked to be valid R names. When `TRUE`, R will replace e.g. accented characters and slashes (`/`) with dots.\n",
    "There is a useful convention; if the first row in the data file has one item less than the following ones, it is interpreted as column names and every first item in subsequent rows as a respective row name. The file might look as follows:\n",
    "\n",
    "SiO2 → TiO2 → Al2O3 → Fe2O3 → FeO\n",
    "\n",
    "Li1 → 51.73 → 1.48 → 16.01 → 1.03 → 7.06\n",
    "\n",
    "Li2 → 51.88 → 1.48 → 15.93 → 0.99 → 6.85 …\n",
    "\n",
    "In order to read a text file in which the lengths of rows are all the same, but column names are present, one can employ `header = TRUE, row.names = 1`."
   ]
  },
  {
   "cell_type": "markdown",
   "metadata": {},
   "source": [
    "Parameter `na.strings` specifies text strings to be interpreted as missing values, e.g., `na.strings=c(\"b.d.\",\"-\",\"NA\")`. It is fairly common for a file exported from a spreadsheet such as MS Excel to have all trailing empty fields and their separators omitted. To read such files set `fill = TRUE` or simply copy and paste the data from spreadsheet to your text editor directly using the Windows clipboard."
   ]
  },
  {
   "cell_type": "code",
   "execution_count": null,
   "metadata": {},
   "outputs": [],
   "source": [
    "sazava  <-  read.table(\"data/sazava.data\",sep=\"\\t\")\n",
    "head(sazava)"
   ]
  },
  {
   "cell_type": "markdown",
   "metadata": {},
   "source": [
    "#### readClipboard()\n",
    "In its simplest form, this function reads the text from the Windows clipboard. "
   ]
  },
  {
   "cell_type": "markdown",
   "metadata": {},
   "source": [
    "### 1.11.2\tSample data sets\n",
    "R and its packages contain numerous sample datasets that can be attached to the current session using the function `data(…)`. For instance:"
   ]
  },
  {
   "cell_type": "code",
   "execution_count": null,
   "metadata": {},
   "outputs": [],
   "source": [
    "data(islands)"
   ]
  },
  {
   "cell_type": "markdown",
   "metadata": {},
   "source": [
    "Then documentation is available using the help command:"
   ]
  },
  {
   "cell_type": "code",
   "execution_count": null,
   "metadata": {},
   "outputs": [],
   "source": [
    "?islands"
   ]
  },
  {
   "cell_type": "markdown",
   "metadata": {},
   "source": [
    "### 1.11.3\tSaving data\n",
    "#### write.table(x, file = \"\", append = FALSE, sep = \" \", na = \"NA\", dec = \".\", row.names = TRUE, col.names = TRUE)\n",
    "This function writes an object `x` (a matrix, a data frame, or an object that can be converted to such) to the specified `file`, separating the individual items by `sep`. As for `read.table`, one can specify the strings representing the missing values and the decimal point. Moreover, there are logical parameters determining whether row and/or column names are to be stored (`row.names, col.names`) and whether to append the data without erasing those possibly already present.\n",
    "#### writeClipboard(str)\n",
    "Writes the text specified by the character vector `str` to the Windows clipboard."
   ]
  },
  {
   "cell_type": "code",
   "execution_count": null,
   "metadata": {},
   "outputs": [],
   "source": []
  }
 ],
 "metadata": {
  "kernelspec": {
   "display_name": "R",
   "language": "R",
   "name": "ir"
  },
  "language_info": {
   "codemirror_mode": "r",
   "file_extension": ".r",
   "mimetype": "text/x-r-source",
   "name": "R",
   "pygments_lexer": "r",
   "version": "4.0.0"
  }
 },
 "nbformat": 4,
 "nbformat_minor": 1
}
