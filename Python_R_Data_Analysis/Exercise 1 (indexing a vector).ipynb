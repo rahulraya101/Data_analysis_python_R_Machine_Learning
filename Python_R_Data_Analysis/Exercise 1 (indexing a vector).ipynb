{
 "cells": [
  {
   "cell_type": "markdown",
   "metadata": {},
   "source": [
    "# Exercise 1"
   ]
  },
  {
   "cell_type": "markdown",
   "metadata": {},
   "source": [
    "<img src=\"images/exercise-icon.png\" style=\"float:left;width:40px;height:40px;\">\n",
    "R involves numerous built in datasets that can be used to demonstrate its capabilities. The object `islands` is a vector with areas of landmasses (i.e. islands and continents) exceeding 10 000 sq. miles. Before we can start working, we need to attach the data object using the command: "
   ]
  },
  {
   "cell_type": "code",
   "execution_count": null,
   "metadata": {
    "collapsed": true
   },
   "outputs": [],
   "source": [
    "data(islands)"
   ]
  },
  {
   "cell_type": "markdown",
   "metadata": {},
   "source": [
    "**To-do list:**\n",
    "* Display the whole vector. What is the area of Luzon?\n",
    "* What is the average value of the whole vector?\n",
    "* Which continent is the largest and what is its area?\n",
    "* Which continents/islands have an area larger than 5000?\n",
    "* Display the names of 15 smallest and largest continents/islands.\n",
    "* Assuming that these are British miles, recalculate the data to km2 (1 sq mi = 2.59 km2)"
   ]
  }
 ],
 "metadata": {
  "kernelspec": {
   "display_name": "R",
   "language": "R",
   "name": "ir"
  },
  "language_info": {
   "codemirror_mode": "r",
   "file_extension": ".r",
   "mimetype": "text/x-r-source",
   "name": "R",
   "pygments_lexer": "r",
   "version": "4.0.0"
  }
 },
 "nbformat": 4,
 "nbformat_minor": 1
}
