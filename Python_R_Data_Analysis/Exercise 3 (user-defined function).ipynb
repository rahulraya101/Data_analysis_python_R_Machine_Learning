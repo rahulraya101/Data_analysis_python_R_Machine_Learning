{
 "cells": [
  {
   "cell_type": "markdown",
   "metadata": {},
   "source": [
    "# Exercise 3"
   ]
  },
  {
   "cell_type": "markdown",
   "metadata": {},
   "source": [
    "<img src=\"images/exercise-icon.png\" style=\"float:left;width:40px;height:40px;\">\n",
    "In some Anglo–Saxon countries, the temperature is still often expressed in degrees Fahrenheit. Their relation to the Centigrade is illustrated in the following figure:\n",
    "<img src=\"images/F-C.png\" style=\"width:338px;height:96px;\">\n"
   ]
  },
  {
   "cell_type": "markdown",
   "metadata": {},
   "source": [
    "* Prepare a function converting degrees of Fahrenheit to Centigrade\n",
    "* Debug the function using the values provided in above figure — how much is in Celsius –40, 98.6 and 212 °F?\n",
    "* Design a conversion table Fahrenheit to Celsius for 0, 10, …220 °F and plot the data into a binary diagram\n"
   ]
  },
  {
   "cell_type": "code",
   "execution_count": null,
   "metadata": {},
   "outputs": [],
   "source": []
  }
 ],
 "metadata": {
  "kernelspec": {
   "display_name": "R",
   "language": "R",
   "name": "ir"
  },
  "language_info": {
   "codemirror_mode": "r",
   "file_extension": ".r",
   "mimetype": "text/x-r-source",
   "name": "R",
   "pygments_lexer": "r",
   "version": "4.0.0"
  }
 },
 "nbformat": 4,
 "nbformat_minor": 1
}
