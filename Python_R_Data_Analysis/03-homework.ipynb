{
 "cells": [
  {
   "cell_type": "markdown",
   "metadata": {},
   "source": [
    "# Python Homework II"
   ]
  },
  {
   "cell_type": "markdown",
   "metadata": {},
   "source": [
    "### Correct code for syntax errors\n",
    "\n",
    "\n",
    "Correct all errors in the following program and write comments what is wrong in following cell."
   ]
  },
  {
   "cell_type": "code",
   "execution_count": 2,
   "metadata": {},
   "outputs": [
    {
     "ename": "SyntaxError",
     "evalue": "invalid decimal literal (<ipython-input-2-8f72103e283c>, line 3)",
     "output_type": "error",
     "traceback": [
      "\u001b[1;36m  File \u001b[1;32m\"<ipython-input-2-8f72103e283c>\"\u001b[1;36m, line \u001b[1;32m3\u001b[0m\n\u001b[1;33m    1_val = sin^2( x ) + cos^2( x )\u001b[0m\n\u001b[1;37m     ^\u001b[0m\n\u001b[1;31mSyntaxError\u001b[0m\u001b[1;31m:\u001b[0m invalid decimal literal\n"
     ]
    }
   ],
   "source": [
    "from math import sin, cos\n",
    "x = pi / 4\n",
    "1_val = sin^2( x ) + cos^2( x )\n",
    "print 1_VAL"
   ]
  },
  {
   "cell_type": "markdown",
   "metadata": {},
   "source": [
    "#### Your comments\n",
    "[in line 3 there is an invalid decimal literal, we cannot start with number before the name , it will not accept in python\n",
    "missing the parentheses in call to print .\n",
    "pi is not defined.\n",
    "answer is below.]"
   ]
  },
  {
   "cell_type": "code",
   "execution_count": 8,
   "metadata": {},
   "outputs": [
    {
     "name": "stdout",
     "output_type": "stream",
     "text": [
      "1.0000000000000002\n"
     ]
    }
   ],
   "source": [
    "from math import sin, cos, pi\n",
    "x = pi / 4\n",
    "val = sin( x )**2 + cos( x )**2\n",
    "print (val)"
   ]
  },
  {
   "cell_type": "markdown",
   "metadata": {},
   "source": [
    "### Fibonacci sequence\n",
    "The Fibonacci sequence is an integer sequence of Fibonacci numbers $F_n$ defined by a simple linear recurrence relation:\n",
    "\n",
    "$$F_{n}=F_{n-1}+F_{n-2}$$\n",
    "\n",
    "with seed values $F_{0}=1$ and $F_{1}=1$.\n",
    "\n",
    "Write code, which will print the value $F_{100}$ of Fibonacci sequence."
   ]
  },
  {
   "cell_type": "code",
   "execution_count": 36,
   "metadata": {},
   "outputs": [
    {
     "name": "stdout",
     "output_type": "stream",
     "text": [
      "[1, 1, 2, 3, 5, 8, 13, 21, 34, 55, 89, 144, 233, 377, 610, 987, 1597, 2584, 4181, 6765, 10946, 17711, 28657, 46368, 75025, 121393, 196418, 317811, 514229, 832040, 1346269, 2178309, 3524578, 5702887, 9227465, 14930352, 24157817, 39088169, 63245986, 102334155, 165580141, 267914296, 433494437, 701408733, 1134903170, 1836311903, 2971215073, 4807526976, 7778742049, 12586269025, 20365011074, 32951280099, 53316291173, 86267571272, 139583862445, 225851433717, 365435296162, 591286729879, 956722026041, 1548008755920, 2504730781961, 4052739537881, 6557470319842, 10610209857723, 17167680177565, 27777890035288, 44945570212853, 72723460248141, 117669030460994, 190392490709135, 308061521170129, 498454011879264, 806515533049393, 1304969544928657, 2111485077978050, 3416454622906707, 5527939700884757, 8944394323791464, 14472334024676221, 23416728348467685, 37889062373143906, 61305790721611591, 99194853094755497, 160500643816367088, 259695496911122585, 420196140727489673, 679891637638612258, 1100087778366101931, 1779979416004714189, 2880067194370816120, 4660046610375530309, 7540113804746346429, 12200160415121876738, 19740274219868223167, 31940434634990099905, 51680708854858323072, 83621143489848422977, 135301852344706746049, 218922995834555169026, 354224848179261915075, 573147844013817084101]\n",
      "F_100 is 573147844013817084101\n"
     ]
    }
   ],
   "source": [
    "# your code here\n",
    "n =100 # required amount of Fibonacci sequence\n",
    "F = [1, 1]\n",
    "for x in range(n - 1): # here we have given two numbers\n",
    "    F.append(F[-2] + F[-1])\n",
    "print(F)\n",
    "print(f\"F_100 is {F[100]}\")"
   ]
  },
  {
   "cell_type": "markdown",
   "metadata": {},
   "source": [
    "### Magic ratio\n",
    "Let's define function R based on Fibonacci sequence as:\n",
    "\n",
    "$$R(n) = \\frac{F_{n+1}}{F_n}$$\n",
    "\n",
    "for integer $n\\geqslant 0$.\n",
    "\n",
    "Write small program, which will print first 20 values in form:\n",
    "```\n",
    "R(0)=1.0\n",
    "R(1)=2.0\n",
    "R(2)=1.5\n",
    "etc...\n",
    "```\n"
   ]
  },
  {
   "cell_type": "code",
   "execution_count": 37,
   "metadata": {},
   "outputs": [
    {
     "name": "stdout",
     "output_type": "stream",
     "text": [
      "[1.0, 2.0, 1.5, 1.6666666666666667, 1.6, 1.625, 1.6153846153846154, 1.619047619047619, 1.6176470588235294, 1.6181818181818182, 1.6179775280898876, 1.6180555555555556, 1.6180257510729614, 1.6180371352785146, 1.618032786885246, 1.618034447821682, 1.6180338134001253, 1.618034055727554, 1.6180339631667064, 1.6180339985218033]\n",
      "R(19)=1.6180339985218033\n"
     ]
    }
   ],
   "source": [
    "# code here\n",
    "R = []\n",
    "for x in range(20): # here we have given the range.\n",
    "    R.append(F [x + 1] / F [x]) \n",
    "print (R)\n",
    "print(f'R({x})={R[x]}')"
   ]
  },
  {
   "cell_type": "markdown",
   "metadata": {},
   "source": [
    "If your $R(n)$ code above is correct, you can see that function $R(n)$ is convergent. Can you find out what is special on that number?"
   ]
  },
  {
   "cell_type": "markdown",
   "metadata": {},
   "source": [
    "[1. yes, the values of R(n) are convergent.\n",
    "and the number of values of R are exactly 20.\n",
    "]"
   ]
  },
  {
   "cell_type": "markdown",
   "metadata": {
    "jupyter": {
     "source_hidden": true
    }
   },
   "source": [
    "### Function for means\n",
    "\n",
    "Write a Python function to calculate the arithmetic mean (AM), geometric mean (GM) and harmonic mean (HM). The function accepts the list of numbers as input and returns tuple of three means as output.\n",
    "\n",
    "$${\\displaystyle {\\text{AM}}={\\frac {1}{n}}\\sum _{i=1}^{n}a_{i}={\\frac {a_{1}+a_{2}+\\cdots +a_{n}}{n}}}$$\n",
    "\n",
    "$${\\displaystyle {\\text{GM}}={\\sqrt[{n}]{\\prod _{i=1}^{n}a_{i}}}={\\sqrt[{n}]{a_{1}a_{2}\\cdots a_{n}}}}$$\n",
    "\n",
    "$${\\displaystyle {\\text{HM}}={\\frac {1}{{\\dfrac {1}{n}}\\displaystyle \\sum \\limits _{i=1}^{n}{\\frac {1}{a_{i}}}}}={\\frac {n}{{\\frac {1}{a_{1}}}+{\\frac {1}{a_{2}}}+\\cdots +{\\frac {1}{a_{n}}}}}}$$"
   ]
  },
  {
   "cell_type": "code",
   "execution_count": 51,
   "metadata": {},
   "outputs": [
    {
     "name": "stdout",
     "output_type": "stream",
     "text": [
      "AM = 17.56\n",
      "GM = 13.738308738230947\n",
      "HM = 10.748355750965422\n"
     ]
    }
   ],
   "source": [
    "def means(values):\n",
    "    # your code here\n",
    "    am = sum(values)/ len(values)\n",
    "    p = 1\n",
    "    for i in values:\n",
    "        p = p * i\n",
    "    gm = p ** (1/len(values))\n",
    "\n",
    "    hm = gm**2/am\n",
    "    return am, gm, hm\n",
    "\n",
    "data = [20.6, 35.2, 16.2, 28.5, 25.0, 17.6, 8.2, 1.8, 15.3, 7.2]\n",
    "am, gm, hm = means(data)\n",
    "print(f\"AM = {am}\")\n",
    "print(f\"GM = {gm}\")\n",
    "print(f\"HM = {hm}\")"
   ]
  }
 ],
 "metadata": {
  "kernelspec": {
   "display_name": "Python 3",
   "language": "python",
   "name": "python3"
  },
  "language_info": {
   "codemirror_mode": {
    "name": "ipython",
    "version": 3
   },
   "file_extension": ".py",
   "mimetype": "text/x-python",
   "name": "python",
   "nbconvert_exporter": "python",
   "pygments_lexer": "ipython3",
   "version": "3.8.5"
  }
 },
 "nbformat": 4,
 "nbformat_minor": 4
}
