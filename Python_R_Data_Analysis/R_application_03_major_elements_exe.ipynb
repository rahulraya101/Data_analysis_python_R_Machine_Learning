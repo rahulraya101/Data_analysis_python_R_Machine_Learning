{
 "cells": [
  {
   "cell_type": "markdown",
   "metadata": {},
   "source": [
    "<img src=\"images/major.png\" style=\"float:right;width:150px;\"> \n",
    "# Dealing with mixtures:<br>interpretation of major-element data from igneous rocks"
   ]
  },
  {
   "cell_type": "markdown",
   "metadata": {},
   "source": [
    "### 8.5: Generalized mixing (majors)\n",
    "<img src=\"images/exercise-icon.png\" style=\"float:left;width:40px;height:40px;\">\n",
    "<br>The following file contains compositions of three ideal rock-forming minerals making up a model olivine gabbro: \n",
    "\n",
    "\n",
    "<div style=\"text-align: right\"> \n",
    "<img src=\"images/floppy.png\" style=\"float:right;width:30px;height:30px;\">\n",
    "gabbro_modal.data </div>"
   ]
  },
  {
   "cell_type": "markdown",
   "metadata": {},
   "source": [
    "* Calculate whole-rock geochemical composition of a gabbro that contains 50 % Pl, 30 % Ol and 20 % Di (by weight)."
   ]
  },
  {
   "cell_type": "code",
   "execution_count": 1,
   "metadata": {},
   "outputs": [
    {
     "name": "stdout",
     "output_type": "stream",
     "text": [
      "    SiO2 Al2O3  FeOt   MgO   CaO Na2O\n",
      "Pl 50.54  31.7  0.00  0.00 14.36  3.4\n",
      "Ol 39.19   0.0 18.75 42.06  0.00  0.0\n",
      "Di 55.49   0.0  0.00 18.61 25.90  0.0\n",
      "\n",
      "Whole-rock composition is:\n",
      "       SiO2 Al2O3  FeOt   MgO   CaO Na2O\n",
      "[1,] 48.125 15.85 5.625 16.34 12.36  1.7\n"
     ]
    }
   ],
   "source": [
    "mins <- read.table(\"data/gabbro_modal.data\",sep=\"\\t\")\n",
    "mins <- as.matrix(mins) # Needed prior to matrix multiplication\n",
    "print(mins)\n",
    "cat(\"\\n\")\n",
    "m <- c(0.5,0.3,0.2)\n",
    "\n",
    "cat(\"Whole-rock composition is:\\n\")\n",
    "print(m%*%mins)"
   ]
  },
  {
   "cell_type": "markdown",
   "metadata": {
    "collapsed": true
   },
   "source": [
    "### 8.2: Fractional crystallization (direct modelling on majors)\n",
    "<img src=\"images/exercise-icon.png\" style=\"float:left;width:40px;height:40px;\">\n",
    "<br>The following file contains analyses of Sázava tonalite (Janoušek et al. 2004) \n",
    "and some of its rock-forming minerals (Janoušek et al. 2000): \n",
    "\n",
    "<div style=\"text-align: right\"> \n",
    "<img src=\"images/floppy.png\" style=\"float:right;width:30px;height:30px;\">\n",
    "sazava_fc.data </div>"
   ]
  },
  {
   "cell_type": "markdown",
   "metadata": {},
   "source": [
    "* Calculate the composition of residual melt after 20% fractional crystallization of a cumulate consisting of 50 % Pl, 30 % Bt and 20 % Amp (by weight).\n",
    "* What is the composition of the cumulate?"
   ]
  },
  {
   "cell_type": "code",
   "execution_count": 2,
   "metadata": {},
   "outputs": [
    {
     "name": "stdout",
     "output_type": "stream",
     "text": [
      "      tonalite    Pl    Bt   Amp cumulate differentiated magma\n",
      "SiO2     55.09 53.41 35.32 45.35    46.37                57.27\n",
      "TiO2      0.75  0.00  2.11  1.39     0.91                 0.71\n",
      "Al2O3    17.59 29.48 15.31  9.47    21.23                16.68\n",
      "FeOt      7.73  0.09 23.56 18.57    10.83                 6.96\n",
      "MgO       3.52  0.00  9.05  9.82     4.68                 3.23\n",
      "CaO       8.20 11.27  0.01 11.92     8.02                 8.24\n",
      "Na2O      2.83  5.05  0.10  1.08     2.77                 2.84\n",
      "K2O       2.04  0.12  9.81  1.02     3.21                 1.75\n"
     ]
    }
   ],
   "source": [
    "x <- read.table(\"data/sazava_fc.data\",sep=\"\\t\")\n",
    "x <- as.matrix(x)       # dataframe needs to be transformed to\n",
    "                        # a matrix for matrix multiplication\n",
    "c0 <- x[,1]             # composition of parental magma\n",
    "mins <- x[,-1]          # composition of fractionating phases\n",
    "m <- c(0.5,0.3,0.2)     # mineral proportions in cumulate\n",
    "fc <- 0.2               # degree of fractionation\n",
    "cs <- mins%*%m          # cumulate composition \n",
    "cl <-(c0-cs*fc)/(1-fc)  # and of residual liquid\n",
    "x <- cbind(x,cs,cl)\n",
    "colnames(x) <- c(\"tonalite\",colnames(mins),\"cumulate\",\"differentiated magma\")\n",
    "print(round(x,2))"
   ]
  },
  {
   "cell_type": "markdown",
   "metadata": {},
   "source": [
    "### 9.4: “Normative” calculations (reversed Ex. 8.5)\n",
    "\n",
    "<div style=\"text-align: right\"> \n",
    "<img src=\"images/floppy.png\" style=\"float:right;width:30px;height:30px;\">\n",
    "gabbro_modal2.data </div>"
   ]
  },
  {
   "cell_type": "markdown",
   "metadata": {},
   "source": [
    "<img src=\"images/exercise-icon.png\" style=\"float:left;width:40px;height:40px;\">\n",
    "Given the analyses of a gabbro and its mineral constituents (file), estimate the wt. % of individual minerals using the least-square method."
   ]
  },
  {
   "cell_type": "code",
   "execution_count": 3,
   "metadata": {},
   "outputs": [
    {
     "name": "stdout",
     "output_type": "stream",
     "text": [
      "      gabbro    Pl    Ol    Di\n",
      "SiO2  48.125 50.54 39.19 55.49\n",
      "Al2O3 15.850 31.70  0.00  0.00\n",
      "FeOt   5.625  0.00 18.75  0.00\n",
      "MgO   16.340  0.00 42.06 18.61\n",
      "CaO   12.360 14.36  0.00 25.90\n",
      "Na2O   1.700  3.40  0.00  0.00\n",
      "\n",
      "Mineral proportions are (wt. %):\n",
      "Pl Ol Di \n",
      "50 30 20 \n"
     ]
    }
   ],
   "source": [
    "x <- read.table(\"data/gabbro_modal2.data\",sep=\"\\t\")\n",
    "x <- as.matrix(x)       # convert data frame to numeric matrix\n",
    "print(x)\n",
    "cat(\"\\n\")\n",
    "\n",
    "rock <- x[,1]           # whole-rock composition of the gabbro\n",
    "mins <- x[,-1]          # mineral compositions\n",
    "m <- lsfit(mins,rock,intercept=FALSE)$coeff\n",
    "cat(\"Mineral proportions are (wt. %):\\n\")\n",
    "print(round(m*100),2)"
   ]
  },
  {
   "cell_type": "markdown",
   "metadata": {},
   "source": [
    "### 9.1: Fractional crystallization (reversed Ex. 8.2)\n",
    "<div style=\"text-align: right\"> \n",
    "<img src=\"images/floppy.png\" style=\"float:right;width:30px;height:30px;\">\n",
    "sazava_fc2.data </div>"
   ]
  },
  {
   "cell_type": "markdown",
   "metadata": {},
   "source": [
    "<img src=\"images/exercise-icon.png\" style=\"float:left;width:40px;height:40px;\">\n",
    "Given the compositions of the parental magma (tonalite), differentiated melt and crystallizing minerals (file), estimate (by the least-square method) the degree of fractional crystallization and mineral proportions in the cumulate."
   ]
  },
  {
   "cell_type": "code",
   "execution_count": 4,
   "metadata": {},
   "outputs": [
    {
     "name": "stdout",
     "output_type": "stream",
     "text": [
      "         tonalite dif.magma    Pl    Bt   Amp\n",
      "SiO2        55.09    57.270 53.41 35.32 45.35\n",
      "TiO2         0.75     0.710  0.00  2.11  1.39\n",
      "Al2O3       17.59    16.681 29.48 15.31  9.47\n",
      "FeOt         7.73     6.956  0.09 23.56 18.57\n",
      "MgO          3.52     3.230  0.00  9.05  9.82\n",
      "CaO          8.20     8.245 11.27  0.01 11.92\n",
      "Na2O         2.83     2.845  5.05  0.10  1.08\n",
      "K2O          2.04     1.748  0.12  9.81  1.02\n",
      "\n",
      " 19.996 % fractionation of  \n",
      "   Pl    Bt   Amp \n",
      "50.00 30.01 19.99 \n",
      "Rsquared:  1.728938e-07 \n"
     ]
    }
   ],
   "source": [
    "x <- read.table(\"data/sazava_fc2.data\",sep=\"\\t\")\n",
    "x <- data.matrix(x)\n",
    "print(x)\n",
    "\n",
    "cc <- x[,-1]            # matrix, 1st column contains diff. magma,\n",
    "                        # the remaining the mineral compositions\n",
    "C0 <- x[,1]             # parental magma composition\n",
    "ee <- lsfit(cc,C0,intercept=FALSE) \n",
    "\n",
    "# least-square solution\n",
    "fc <- 1-ee$coeff[1]     # degree of fractional crystallization\n",
    "f <- ee$coeff[-1]       # if these are normalized to sum up to 1\n",
    "m <- f/sum(f)           # we get the mineral proportions\n",
    "\n",
    "cat(\"\\n\",round(100*fc,3),\"% fractionation of \",\"\\n\")\n",
    "print(m*100,4)\n",
    "cat(\"Rsquared: \",sum(ee$residuals^2),\"\\n\")"
   ]
  },
  {
   "cell_type": "markdown",
   "metadata": {
    "collapsed": true
   },
   "source": [
    "**References**\n",
    "\n",
    "Albaréde F (1995) Introduction to Geochemical Modeling. Cambridge University Press, Cambridge\n",
    "\n",
    "Janoušek V, Bowes DR, Rogers G, Farrow CM, Jelínek E (2000) Modelling diverse processes in the petrogenesis of a composite batholith: the Central Bohemian Pluton, Central European Hercynides. J Petrol 41:511-543\n",
    "\n",
    "Janoušek V, Braithwaite CJR, Bowes DR, Gerdes A (2004) Magma-mixing in the genesis of Hercynian calc-alkaline granitoids: an integrated petrographic and geochemical study of the Sázava intrusion, Central Bohemian Pluton, Czech Republic. Lithos 78:67-99\n"
   ]
  },
  {
   "cell_type": "code",
   "execution_count": null,
   "metadata": {},
   "outputs": [],
   "source": []
  }
 ],
 "metadata": {
  "kernelspec": {
   "display_name": "R",
   "language": "R",
   "name": "ir"
  },
  "language_info": {
   "codemirror_mode": "r",
   "file_extension": ".r",
   "mimetype": "text/x-r-source",
   "name": "R",
   "pygments_lexer": "r",
   "version": "4.0.0"
  }
 },
 "nbformat": 4,
 "nbformat_minor": 1
}
