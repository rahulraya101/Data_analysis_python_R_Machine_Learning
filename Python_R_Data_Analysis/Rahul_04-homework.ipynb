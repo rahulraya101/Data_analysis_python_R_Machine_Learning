{
 "cells": [
  {
   "cell_type": "markdown",
   "metadata": {},
   "source": [
    "# Python Homework III"
   ]
  },
  {
   "cell_type": "code",
   "execution_count": 5,
   "metadata": {},
   "outputs": [
    {
     "name": "stdout",
     "output_type": "stream",
     "text": [
      "Populating the interactive namespace from numpy and matplotlib\n"
     ]
    }
   ],
   "source": [
    "%pylab inline"
   ]
  },
  {
   "cell_type": "markdown",
   "metadata": {},
   "source": [
    "### Checkboard"
   ]
  },
  {
   "cell_type": "markdown",
   "metadata": {},
   "source": [
    "You have a 8x8 2D array Z. Using strides in indexes, fill it with a ones in checkerboard pattern, so the last commenad will show nice chess board."
   ]
  },
  {
   "cell_type": "code",
   "execution_count": 6,
   "metadata": {},
   "outputs": [
    {
     "data": {
      "image/png": "[encoded data removed]",
      "text/plain": [
       "<Figure size 432x288 with 1 Axes>"
      ]
     },
     "metadata": {
      "needs_background": "light"
     },
     "output_type": "display_data"
    }
   ],
   "source": [
    "Z = zeros((8, 8), dtype=int)\n",
    "Z[::2, ::2] = 1\n",
    "Z[1::2, 1::2] = 1\n",
    "# code here\n",
    "imshow(Z);"
   ]
  },
  {
   "cell_type": "markdown",
   "metadata": {},
   "source": [
    "### One sigma range"
   ]
  },
  {
   "cell_type": "markdown",
   "metadata": {},
   "source": [
    "Create numpy array `x` of 200 evenly spaced numbers over a interval \\[-10, 10\\] raised to 3rd power. Find out how many numbers in `x` array are within 1σ range, i.e -σ < x < σ. Store result into variable `n`"
   ]
  },
  {
   "cell_type": "code",
   "execution_count": 7,
   "metadata": {},
   "outputs": [
    {
     "name": "stdout",
     "output_type": "stream",
     "text": [
      "There is 144 numbers within one sigma range\n"
     ]
    }
   ],
   "source": [
    "x = linspace(-10, 10, 200)**3\n",
    "mn = x.mean()\n",
    "st = x.std()\n",
    "mask = (x > mn - st) & (x < mn + st)\n",
    "# code here\n",
    "#n = len(x[mask]) \n",
    "n = count_nonzero(mask)\n",
    "print(f'There is {n} numbers within one sigma range')"
   ]
  },
  {
   "cell_type": "markdown",
   "metadata": {},
   "source": [
    "#### Array manipulation"
   ]
  },
  {
   "cell_type": "markdown",
   "metadata": {},
   "source": [
    "Given a 1D array `Z`, negate all elements which are greater than 3 and smaller than 8."
   ]
  },
  {
   "cell_type": "code",
   "execution_count": 8,
   "metadata": {},
   "outputs": [
    {
     "name": "stdout",
     "output_type": "stream",
     "text": [
      "[ 0  1  2  3 -4 -5 -6 -7  8  9 10]\n"
     ]
    }
   ],
   "source": [
    "Z = arange(11)\n",
    "Z[(Z > 3) & (Z < 8)] *= -1\n",
    "# code here\n",
    "print(Z)"
   ]
  },
  {
   "cell_type": "markdown",
   "metadata": {},
   "source": [
    "#### Prague temperatures"
   ]
  },
  {
   "cell_type": "code",
   "execution_count": 16,
   "metadata": {},
   "outputs": [],
   "source": [
    "dt = loadtxt('D:\\Downloads\\Python_R_Data_Analysis\\clementinum.csv', skiprows=1, delimiter=',')\n",
    "year, month, day = dt[:, :3].T.astype(int)\n",
    "t_avg, t_max, t_min, prec = dt[:, 3:].T"
   ]
  },
  {
   "cell_type": "code",
   "execution_count": 18,
   "metadata": {},
   "outputs": [
    {
     "name": "stdout",
     "output_type": "stream",
     "text": [
      "Average annual temperature in 1920 was  9.76°C\n",
      "Average annual temperature in 1921 was 10.18°C\n",
      "Average annual temperature in 1922 was  8.38°C\n",
      "Average annual temperature in 1923 was  9.33°C\n",
      "Average annual temperature in 1924 was  8.63°C\n",
      "Average annual temperature in 1925 was  9.54°C\n",
      "Average annual temperature in 1926 was  9.97°C\n",
      "Average annual temperature in 1927 was  9.42°C\n",
      "Average annual temperature in 1928 was  9.67°C\n",
      "Average annual temperature in 1929 was  8.50°C\n",
      "Average annual temperature in 1930 was 10.20°C\n",
      "Average annual temperature in 1931 was  8.90°C\n",
      "Average annual temperature in 1932 was  9.66°C\n",
      "Average annual temperature in 1933 was  8.92°C\n",
      "Average annual temperature in 1934 was 11.32°C\n",
      "Average annual temperature in 1935 was 10.03°C\n",
      "Average annual temperature in 1936 was  9.86°C\n",
      "Average annual temperature in 1937 was 10.26°C\n",
      "Average annual temperature in 1938 was 10.18°C\n",
      "Average annual temperature in 1939 was  9.72°C\n",
      "Average annual temperature in 1940 was  7.56°C\n",
      "Average annual temperature in 1941 was  8.28°C\n",
      "Average annual temperature in 1942 was  8.62°C\n",
      "Average annual temperature in 1943 was 10.28°C\n",
      "Average annual temperature in 1944 was  9.66°C\n",
      "Average annual temperature in 1945 was 10.32°C\n",
      "Average annual temperature in 1946 was  9.83°C\n",
      "Average annual temperature in 1947 was  9.86°C\n",
      "Average annual temperature in 1948 was 10.44°C\n",
      "Average annual temperature in 1949 was 10.47°C\n",
      "Average annual temperature in 1950 was 10.24°C\n",
      "Average annual temperature in 1951 was 10.50°C\n",
      "Average annual temperature in 1952 was  9.71°C\n",
      "Average annual temperature in 1953 was 10.54°C\n",
      "Average annual temperature in 1954 was  9.18°C\n",
      "Average annual temperature in 1955 was  8.97°C\n",
      "Average annual temperature in 1956 was  8.32°C\n",
      "Average annual temperature in 1957 was 10.10°C\n",
      "Average annual temperature in 1958 was  9.76°C\n",
      "Average annual temperature in 1959 was 10.31°C\n",
      "Average annual temperature in 1960 was  9.79°C\n",
      "Average annual temperature in 1961 was 10.37°C\n",
      "Average annual temperature in 1962 was  8.83°C\n",
      "Average annual temperature in 1963 was  9.05°C\n",
      "Average annual temperature in 1964 was  9.62°C\n",
      "Average annual temperature in 1965 was  9.12°C\n",
      "Average annual temperature in 1966 was 10.42°C\n",
      "Average annual temperature in 1967 was 10.73°C\n",
      "Average annual temperature in 1968 was  9.85°C\n",
      "Average annual temperature in 1969 was  9.35°C\n",
      "Average annual temperature in 1970 was  9.50°C\n",
      "Average annual temperature in 1971 was 10.13°C\n",
      "Average annual temperature in 1972 was  9.80°C\n",
      "Average annual temperature in 1973 was 10.02°C\n",
      "Average annual temperature in 1974 was 10.73°C\n",
      "Average annual temperature in 1975 was 10.69°C\n",
      "Average annual temperature in 1976 was 10.26°C\n",
      "Average annual temperature in 1977 was 10.30°C\n",
      "Average annual temperature in 1978 was  9.66°C\n",
      "Average annual temperature in 1979 was  9.90°C\n",
      "Average annual temperature in 1980 was  9.00°C\n",
      "Average annual temperature in 1981 was 10.16°C\n",
      "Average annual temperature in 1982 was 10.62°C\n",
      "Average annual temperature in 1983 was 11.01°C\n",
      "Average annual temperature in 1984 was  9.80°C\n",
      "Average annual temperature in 1985 was  9.40°C\n",
      "Average annual temperature in 1986 was 10.11°C\n",
      "Average annual temperature in 1987 was  9.34°C\n",
      "Average annual temperature in 1988 was 10.91°C\n",
      "Average annual temperature in 1989 was 11.26°C\n",
      "Average annual temperature in 1990 was 11.40°C\n",
      "Average annual temperature in 1991 was 10.08°C\n",
      "Average annual temperature in 1992 was 11.43°C\n",
      "Average annual temperature in 1993 was 10.51°C\n",
      "Average annual temperature in 1994 was 11.72°C\n",
      "Average annual temperature in 1995 was 10.71°C\n",
      "Average annual temperature in 1996 was  9.00°C\n",
      "Average annual temperature in 1997 was 10.45°C\n",
      "Average annual temperature in 1998 was 11.17°C\n",
      "Average annual temperature in 1999 was 11.39°C\n",
      "Average annual temperature in 2000 was 11.96°C\n",
      "Average annual temperature in 2001 was 10.68°C\n",
      "Average annual temperature in 2002 was 11.42°C\n",
      "Average annual temperature in 2003 was 11.24°C\n",
      "Average annual temperature in 2004 was 10.89°C\n",
      "Average annual temperature in 2005 was 10.93°C\n",
      "Average annual temperature in 2006 was 11.36°C\n",
      "Average annual temperature in 2007 was 12.15°C\n",
      "Average annual temperature in 2008 was 11.74°C\n",
      "Average annual temperature in 2009 was 11.43°C\n",
      "Average annual temperature in 2010 was 10.06°C\n",
      "Average annual temperature in 2011 was 11.67°C\n",
      "Average annual temperature in 2012 was 11.54°C\n",
      "Average annual temperature in 2013 was 10.89°C\n",
      "Average annual temperature in 2014 was 12.54°C\n",
      "Average annual temperature in 2015 was 12.59°C\n",
      "Average annual temperature in 2016 was 11.81°C\n",
      "Average annual temperature in 2017 was 11.82°C\n",
      "Average annual temperature in 2018 was 12.87°C\n",
      "Average annual temperature in 2019 was 12.63°C\n"
     ]
    }
   ],
   "source": [
    "for y in range(1920, 2020):\n",
    "    # Calculate mean from t_avg values for year y and store into yat variable\n",
    "    # code here\n",
    "    yat = mean(t_avg[year == y])\n",
    "    print(f'Average annual temperature in {y} was {yat:5.2f}°C')"
   ]
  },
  {
   "cell_type": "code",
   "execution_count": 20,
   "metadata": {},
   "outputs": [
    {
     "name": "stdout",
     "output_type": "stream",
     "text": [
      "Average  temperature in Jan during last 100 years was  0.21°C\n",
      "Average  temperature in Feb during last 100 years was  1.27°C\n",
      "Average  temperature in Mar during last 100 years was  5.15°C\n",
      "Average  temperature in Apr during last 100 years was 10.11°C\n",
      "Average  temperature in May during last 100 years was 15.13°C\n",
      "Average  temperature in Jun during last 100 years was 18.42°C\n",
      "Average  temperature in Jul during last 100 years was 20.28°C\n",
      "Average  temperature in Aug during last 100 years was 19.54°C\n",
      "Average  temperature in Sep during last 100 years was 15.43°C\n",
      "Average  temperature in Oct during last 100 years was 10.15°C\n",
      "Average  temperature in Nov during last 100 years was  5.22°C\n",
      "Average  temperature in Dec during last 100 years was  1.58°C\n"
     ]
    }
   ],
   "source": [
    "names = {\n",
    "    1:'Jan', 2:'Feb', 3:'Mar',  4:'Apr',  5:'May',  6:'Jun',\n",
    "    7:'Jul', 8:'Aug', 9:'Sep', 10:'Oct', 11:'Nov', 12:'Dec'\n",
    "    }\n",
    "for m in range(1, 13):\n",
    "    # Calculate mean from t_avg values for month m and store into mat variable\n",
    "    # code here\n",
    "    mat = mean(t_avg[month == m])\n",
    "    print(f'Average  temperature in {names[m]} during last 100 years was {mat:5.2f}°C')"
   ]
  },
  {
   "cell_type": "markdown",
   "metadata": {},
   "source": [
    "#### Reading the code\n",
    "Try to find out what the following code do.\n",
    " - What are the resulting numbers?\n",
    " - Do you know the name of this algorithm?"
   ]
  },
  {
   "cell_type": "code",
   "execution_count": 21,
   "metadata": {},
   "outputs": [
    {
     "name": "stdout",
     "output_type": "stream",
     "text": [
      "[  2   3   5   7  11  13  17  19  23  29  31  37  41  43  47  53  59  61\n",
      "  67  71  73  79  83  89  97 101 103 107 109 113 127 131 137 139 149 151\n",
      " 157 163 167 173 179 181 191 193 197 199 211 223 227 229 233 239 241 251\n",
      " 257 263 269 271 277 281 283 293 307 311 313 317 331 337 347 349 353 359\n",
      " 367 373 379 383 389 397 401 409 419 421 431 433 439 443 449 457 461 463\n",
      " 467 479 487 491 499 503 509 521 523 541 547 557 563 569 571 577 587 593\n",
      " 599 601 607 613 617 619 631 641 643 647 653 659 661 673 677 683 691 701\n",
      " 709 719 727 733 739 743 751 757 761 769 773 787 797 809 811 821 823 827\n",
      " 829 839 853 857 859 863 877 881 883 887 907 911 919 929 937 941 947 953\n",
      " 967 971 977 983 991 997]\n"
     ]
    }
   ],
   "source": [
    "N = 1000\n",
    "v = 1\n",
    "a = arange(2, N)\n",
    "while v < sqrt(N):\n",
    "    v = a[a>v][0]\n",
    "    for to_del in v * arange(2, N/v):\n",
    "        a[a == to_del] = 0\n",
    "print(a[a > 0])"
   ]
  }
 ],
 "metadata": {
  "kernelspec": {
   "display_name": "Python 3",
   "language": "python",
   "name": "python3"
  },
  "language_info": {
   "codemirror_mode": {
    "name": "ipython",
    "version": 3
   },
   "file_extension": ".py",
   "mimetype": "text/x-python",
   "name": "python",
   "nbconvert_exporter": "python",
   "pygments_lexer": "ipython3",
   "version": "3.8.5"
  }
 },
 "nbformat": 4,
 "nbformat_minor": 4
}
