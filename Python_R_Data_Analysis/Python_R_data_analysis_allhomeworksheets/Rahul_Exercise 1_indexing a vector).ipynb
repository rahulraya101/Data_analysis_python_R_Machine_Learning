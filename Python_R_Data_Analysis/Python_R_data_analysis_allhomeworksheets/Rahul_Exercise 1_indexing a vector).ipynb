{
 "cells": [
  {
   "cell_type": "markdown",
   "metadata": {},
   "source": [
    "# Exercise 1"
   ]
  },
  {
   "cell_type": "markdown",
   "metadata": {},
   "source": [
    "<img src=\"images/exercise-icon.png\" style=\"float:left;width:40px;height:40px;\">\n",
    "R involves numerous built in datasets that can be used to demonstrate its capabilities. The object `islands` is a vector with areas of landmasses (i.e. islands and continents) exceeding 10 000 sq. miles. Before we can start working, we need to attach the data object using the command: "
   ]
  },
  {
   "cell_type": "code",
   "execution_count": 1,
   "metadata": {},
   "outputs": [
    {
     "name": "stdout",
     "output_type": "stream",
     "text": [
      "          Africa       Antarctica             Asia        Australia \n",
      "           11506             5500            16988             2968 \n",
      "    Axel Heiberg           Baffin            Banks           Borneo \n",
      "              16              184               23              280 \n",
      "         Britain          Celebes            Celon             Cuba \n",
      "              84               73               25               43 \n",
      "           Devon        Ellesmere           Europe        Greenland \n",
      "              21               82             3745              840 \n",
      "          Hainan       Hispaniola         Hokkaido           Honshu \n",
      "              13               30               30               89 \n",
      "         Iceland          Ireland             Java           Kyushu \n",
      "              40               33               49               14 \n",
      "           Luzon       Madagascar         Melville         Mindanao \n",
      "              42              227               16               36 \n",
      "        Moluccas      New Britain       New Guinea  New Zealand (N) \n",
      "              29               15              306               44 \n",
      " New Zealand (S)     Newfoundland    North America    Novaya Zemlya \n",
      "              58               43             9390               32 \n",
      " Prince of Wales         Sakhalin    South America      Southampton \n",
      "              13               29             6795               16 \n",
      "     Spitsbergen          Sumatra           Taiwan         Tasmania \n",
      "              15              183               14               26 \n",
      "Tierra del Fuego            Timor        Vancouver         Victoria \n",
      "              19               13               12               82 \n"
     ]
    },
    {
     "data": {
      "text/html": [
       "\n",
       "<table width=\"100%\" summary=\"page for islands {datasets}\"><tr><td>islands {datasets}</td><td style=\"text-align: right;\">R Documentation</td></tr></table>\n",
       "\n",
       "<h2>Areas of the World's Major Landmasses</h2>\n",
       "\n",
       "<h3>Description</h3>\n",
       "\n",
       "<p>The areas in thousands of square miles of the landmasses which exceed\n",
       "10,000 square miles.\n",
       "</p>\n",
       "\n",
       "\n",
       "<h3>Usage</h3>\n",
       "\n",
       "<pre>islands</pre>\n",
       "\n",
       "\n",
       "<h3>Format</h3>\n",
       "\n",
       "<p>A named vector of length 48.</p>\n",
       "\n",
       "\n",
       "<h3>Source</h3>\n",
       "\n",
       "<p>The World Almanac and Book of Facts, 1975, page 406.</p>\n",
       "\n",
       "\n",
       "<h3>References</h3>\n",
       "\n",
       "<p>McNeil, D. R. (1977)\n",
       "<em>Interactive Data Analysis</em>.\n",
       "Wiley.\n",
       "</p>\n",
       "\n",
       "\n",
       "<h3>Examples</h3>\n",
       "\n",
       "<pre>\n",
       "require(graphics)\n",
       "dotchart(log(islands, 10),\n",
       "   main = \"islands data: log10(area) (log10(sq. miles))\")\n",
       "dotchart(log(islands[order(islands)], 10),\n",
       "   main = \"islands data: log10(area) (log10(sq. miles))\")\n",
       "</pre>\n",
       "\n",
       "<hr /><div style=\"text-align: center;\">[Package <em>datasets</em> version 3.6.1 ]</div>"
      ],
      "text/latex": [
       "\\inputencoding{utf8}\n",
       "\\HeaderA{islands}{Areas of the World's Major Landmasses}{islands}\n",
       "\\keyword{datasets}{islands}\n",
       "%\n",
       "\\begin{Description}\\relax\n",
       "The areas in thousands of square miles of the landmasses which exceed\n",
       "10,000 square miles.\n",
       "\\end{Description}\n",
       "%\n",
       "\\begin{Usage}\n",
       "\\begin{verbatim}\n",
       "islands\n",
       "\\end{verbatim}\n",
       "\\end{Usage}\n",
       "%\n",
       "\\begin{Format}\n",
       "A named vector of length 48.\n",
       "\\end{Format}\n",
       "%\n",
       "\\begin{Source}\\relax\n",
       "The World Almanac and Book of Facts, 1975, page 406.\n",
       "\\end{Source}\n",
       "%\n",
       "\\begin{References}\\relax\n",
       "McNeil, D. R. (1977)\n",
       "\\emph{Interactive Data Analysis}.\n",
       "Wiley.\n",
       "\\end{References}\n",
       "%\n",
       "\\begin{Examples}\n",
       "\\begin{ExampleCode}\n",
       "require(graphics)\n",
       "dotchart(log(islands, 10),\n",
       "   main = \"islands data: log10(area) (log10(sq. miles))\")\n",
       "dotchart(log(islands[order(islands)], 10),\n",
       "   main = \"islands data: log10(area) (log10(sq. miles))\")\n",
       "\\end{ExampleCode}\n",
       "\\end{Examples}"
      ],
      "text/plain": [
       "islands                package:datasets                R Documentation\n",
       "\n",
       "_\bA_\br_\be_\ba_\bs _\bo_\bf _\bt_\bh_\be _\bW_\bo_\br_\bl_\bd'_\bs _\bM_\ba_\bj_\bo_\br _\bL_\ba_\bn_\bd_\bm_\ba_\bs_\bs_\be_\bs\n",
       "\n",
       "_\bD_\be_\bs_\bc_\br_\bi_\bp_\bt_\bi_\bo_\bn:\n",
       "\n",
       "     The areas in thousands of square miles of the landmasses which\n",
       "     exceed 10,000 square miles.\n",
       "\n",
       "_\bU_\bs_\ba_\bg_\be:\n",
       "\n",
       "     islands\n",
       "     \n",
       "_\bF_\bo_\br_\bm_\ba_\bt:\n",
       "\n",
       "     A named vector of length 48.\n",
       "\n",
       "_\bS_\bo_\bu_\br_\bc_\be:\n",
       "\n",
       "     The World Almanac and Book of Facts, 1975, page 406.\n",
       "\n",
       "_\bR_\be_\bf_\be_\br_\be_\bn_\bc_\be_\bs:\n",
       "\n",
       "     McNeil, D. R. (1977) _Interactive Data Analysis_.  Wiley.\n",
       "\n",
       "_\bE_\bx_\ba_\bm_\bp_\bl_\be_\bs:\n",
       "\n",
       "     require(graphics)\n",
       "     dotchart(log(islands, 10),\n",
       "        main = \"islands data: log10(area) (log10(sq. miles))\")\n",
       "     dotchart(log(islands[order(islands)], 10),\n",
       "        main = \"islands data: log10(area) (log10(sq. miles))\")\n",
       "     "
      ]
     },
     "metadata": {},
     "output_type": "display_data"
    }
   ],
   "source": [
    "data(islands)\n",
    "help(islands)\n",
    "print(islands)"
   ]
  },
  {
   "cell_type": "code",
   "execution_count": 2,
   "metadata": {},
   "outputs": [
    {
     "data": {
      "image/png": "[encoded data removed]",
      "text/plain": [
       "Plot with title \"islands data: log10(area) (log10(sq. miles))\""
      ]
     },
     "metadata": {},
     "output_type": "display_data"
    },
    {
     "data": {
      "image/png": "[encoded data removed]",
      "text/plain": [
       "Plot with title \"islands data: log10(area) (log10(sq. miles))\""
      ]
     },
     "metadata": {},
     "output_type": "display_data"
    }
   ],
   "source": [
    "require(graphics)\n",
    "dotchart(log(islands, 10),\n",
    "   main = \"islands data: log10(area) (log10(sq. miles))\")\n",
    "dotchart(log(islands[order(islands)], 10),\n",
    "   main = \"islands data: log10(area) (log10(sq. miles))\")"
   ]
  },
  {
   "cell_type": "markdown",
   "metadata": {},
   "source": [
    "**To-do list:**\n",
    "* Display the whole vector. What is the area of Luzon?\n",
    "* What is the average value of the whole vector?\n",
    "* Which continent is the largest and what is its area?\n",
    "* Which continents/islands have an area larger than 5000?\n",
    "* Display the names of 15 smallest and largest continents/islands.\n",
    "* Assuming that these are British miles, recalculate the data to km2 (1 sq mi = 2.59 km2)"
   ]
  },
  {
   "cell_type": "code",
   "execution_count": 38,
   "metadata": {},
   "outputs": [
    {
     "name": "stdout",
     "output_type": "stream",
     "text": [
      "          Africa       Antarctica             Asia        Australia \n",
      "           11506             5500            16988             2968 \n",
      "    Axel Heiberg           Baffin            Banks           Borneo \n",
      "              16              184               23              280 \n",
      "         Britain          Celebes            Celon             Cuba \n",
      "              84               73               25               43 \n",
      "           Devon        Ellesmere           Europe        Greenland \n",
      "              21               82             3745              840 \n",
      "          Hainan       Hispaniola         Hokkaido           Honshu \n",
      "              13               30               30               89 \n",
      "         Iceland          Ireland             Java           Kyushu \n",
      "              40               33               49               14 \n",
      "           Luzon       Madagascar         Melville         Mindanao \n",
      "              42              227               16               36 \n",
      "        Moluccas      New Britain       New Guinea  New Zealand (N) \n",
      "              29               15              306               44 \n",
      " New Zealand (S)     Newfoundland    North America    Novaya Zemlya \n",
      "              58               43             9390               32 \n",
      " Prince of Wales         Sakhalin    South America      Southampton \n",
      "              13               29             6795               16 \n",
      "     Spitsbergen          Sumatra           Taiwan         Tasmania \n",
      "              15              183               14               26 \n",
      "Tierra del Fuego            Timor        Vancouver         Victoria \n",
      "              19               13               12               82 \n"
     ]
    }
   ],
   "source": [
    "#Display the whole vector. Waht is the area of Luzon?\n",
    "data(islands)\n",
    "print(islands)\n",
    "#print(Luzon)\n",
    "#area(Luzon)\n",
    "#islands(Luzon, area)\n"
   ]
  },
  {
   "cell_type": "code",
   "execution_count": 20,
   "metadata": {},
   "outputs": [
    {
     "data": {
      "text/html": [
       "1252.72916666667"
      ],
      "text/latex": [
       "1252.72916666667"
      ],
      "text/markdown": [
       "1252.72916666667"
      ],
      "text/plain": [
       "[1] 1252.729"
      ]
     },
     "metadata": {},
     "output_type": "display_data"
    }
   ],
   "source": [
    "# What is the average value of the whole vector?\n",
    "mean(islands)"
   ]
  },
  {
   "cell_type": "code",
   "execution_count": 21,
   "metadata": {},
   "outputs": [
    {
     "data": {
      "text/html": [
       "<strong>Asia:</strong> 3"
      ],
      "text/latex": [
       "\\textbf{Asia:} 3"
      ],
      "text/markdown": [
       "**Asia:** 3"
      ],
      "text/plain": [
       "Asia \n",
       "   3 "
      ]
     },
     "metadata": {},
     "output_type": "display_data"
    },
    {
     "data": {
      "text/html": [
       "16988"
      ],
      "text/latex": [
       "16988"
      ],
      "text/markdown": [
       "16988"
      ],
      "text/plain": [
       "[1] 16988"
      ]
     },
     "metadata": {},
     "output_type": "display_data"
    }
   ],
   "source": [
    "# Which continent is the largest and what is its area?\n",
    "which.max(islands); max(islands)"
   ]
  },
  {
   "cell_type": "code",
   "execution_count": 22,
   "metadata": {},
   "outputs": [
    {
     "data": {
      "text/html": [
       "<dl class=dl-horizontal>\n",
       "\t<dt>Africa</dt>\n",
       "\t\t<dd>1</dd>\n",
       "\t<dt>Antarctica</dt>\n",
       "\t\t<dd>2</dd>\n",
       "\t<dt>Asia</dt>\n",
       "\t\t<dd>3</dd>\n",
       "\t<dt>North America</dt>\n",
       "\t\t<dd>35</dd>\n",
       "\t<dt>South America</dt>\n",
       "\t\t<dd>39</dd>\n",
       "</dl>\n"
      ],
      "text/latex": [
       "\\begin{description*}\n",
       "\\item[Africa] 1\n",
       "\\item[Antarctica] 2\n",
       "\\item[Asia] 3\n",
       "\\item[North America] 35\n",
       "\\item[South America] 39\n",
       "\\end{description*}\n"
      ],
      "text/markdown": [
       "Africa\n",
       ":   1Antarctica\n",
       ":   2Asia\n",
       ":   3North America\n",
       ":   35South America\n",
       ":   39\n",
       "\n"
      ],
      "text/plain": [
       "       Africa    Antarctica          Asia North America South America \n",
       "            1             2             3            35            39 "
      ]
     },
     "metadata": {},
     "output_type": "display_data"
    }
   ],
   "source": [
    "# Which continents/islands have an area larger than 5000?\n",
    "which(islands > 5000)"
   ]
  },
  {
   "cell_type": "code",
   "execution_count": 27,
   "metadata": {},
   "outputs": [
    {
     "data": {
      "text/html": [
       "<dl class=dl-horizontal>\n",
       "\t<dt>Vancouver</dt>\n",
       "\t\t<dd>12</dd>\n",
       "\t<dt>Hainan</dt>\n",
       "\t\t<dd>13</dd>\n",
       "\t<dt>Prince of Wales</dt>\n",
       "\t\t<dd>13</dd>\n",
       "\t<dt>Timor</dt>\n",
       "\t\t<dd>13</dd>\n",
       "\t<dt>Kyushu</dt>\n",
       "\t\t<dd>14</dd>\n",
       "\t<dt>Taiwan</dt>\n",
       "\t\t<dd>14</dd>\n",
       "\t<dt>New Britain</dt>\n",
       "\t\t<dd>15</dd>\n",
       "\t<dt>Spitsbergen</dt>\n",
       "\t\t<dd>15</dd>\n",
       "\t<dt>Axel Heiberg</dt>\n",
       "\t\t<dd>16</dd>\n",
       "\t<dt>Melville</dt>\n",
       "\t\t<dd>16</dd>\n",
       "\t<dt>Southampton</dt>\n",
       "\t\t<dd>16</dd>\n",
       "\t<dt>Tierra del Fuego</dt>\n",
       "\t\t<dd>19</dd>\n",
       "\t<dt>Devon</dt>\n",
       "\t\t<dd>21</dd>\n",
       "\t<dt>Banks</dt>\n",
       "\t\t<dd>23</dd>\n",
       "\t<dt>Celon</dt>\n",
       "\t\t<dd>25</dd>\n",
       "</dl>\n"
      ],
      "text/latex": [
       "\\begin{description*}\n",
       "\\item[Vancouver] 12\n",
       "\\item[Hainan] 13\n",
       "\\item[Prince of Wales] 13\n",
       "\\item[Timor] 13\n",
       "\\item[Kyushu] 14\n",
       "\\item[Taiwan] 14\n",
       "\\item[New Britain] 15\n",
       "\\item[Spitsbergen] 15\n",
       "\\item[Axel Heiberg] 16\n",
       "\\item[Melville] 16\n",
       "\\item[Southampton] 16\n",
       "\\item[Tierra del Fuego] 19\n",
       "\\item[Devon] 21\n",
       "\\item[Banks] 23\n",
       "\\item[Celon] 25\n",
       "\\end{description*}\n"
      ],
      "text/markdown": [
       "Vancouver\n",
       ":   12Hainan\n",
       ":   13Prince of Wales\n",
       ":   13Timor\n",
       ":   13Kyushu\n",
       ":   14Taiwan\n",
       ":   14New Britain\n",
       ":   15Spitsbergen\n",
       ":   15Axel Heiberg\n",
       ":   16Melville\n",
       ":   16Southampton\n",
       ":   16Tierra del Fuego\n",
       ":   19Devon\n",
       ":   21Banks\n",
       ":   23Celon\n",
       ":   25\n",
       "\n"
      ],
      "text/plain": [
       "       Vancouver           Hainan  Prince of Wales            Timor \n",
       "              12               13               13               13 \n",
       "          Kyushu           Taiwan      New Britain      Spitsbergen \n",
       "              14               14               15               15 \n",
       "    Axel Heiberg         Melville      Southampton Tierra del Fuego \n",
       "              16               16               16               19 \n",
       "           Devon            Banks            Celon \n",
       "              21               23               25 "
      ]
     },
     "metadata": {},
     "output_type": "display_data"
    },
    {
     "data": {
      "text/html": [
       "<dl class=dl-horizontal>\n",
       "\t<dt>Asia</dt>\n",
       "\t\t<dd>16988</dd>\n",
       "\t<dt>Africa</dt>\n",
       "\t\t<dd>11506</dd>\n",
       "\t<dt>North America</dt>\n",
       "\t\t<dd>9390</dd>\n",
       "\t<dt>South America</dt>\n",
       "\t\t<dd>6795</dd>\n",
       "\t<dt>Antarctica</dt>\n",
       "\t\t<dd>5500</dd>\n",
       "\t<dt>Europe</dt>\n",
       "\t\t<dd>3745</dd>\n",
       "\t<dt>Australia</dt>\n",
       "\t\t<dd>2968</dd>\n",
       "\t<dt>Greenland</dt>\n",
       "\t\t<dd>840</dd>\n",
       "\t<dt>New Guinea</dt>\n",
       "\t\t<dd>306</dd>\n",
       "\t<dt>Borneo</dt>\n",
       "\t\t<dd>280</dd>\n",
       "\t<dt>Madagascar</dt>\n",
       "\t\t<dd>227</dd>\n",
       "\t<dt>Baffin</dt>\n",
       "\t\t<dd>184</dd>\n",
       "\t<dt>Sumatra</dt>\n",
       "\t\t<dd>183</dd>\n",
       "\t<dt>Honshu</dt>\n",
       "\t\t<dd>89</dd>\n",
       "\t<dt>Britain</dt>\n",
       "\t\t<dd>84</dd>\n",
       "</dl>\n"
      ],
      "text/latex": [
       "\\begin{description*}\n",
       "\\item[Asia] 16988\n",
       "\\item[Africa] 11506\n",
       "\\item[North America] 9390\n",
       "\\item[South America] 6795\n",
       "\\item[Antarctica] 5500\n",
       "\\item[Europe] 3745\n",
       "\\item[Australia] 2968\n",
       "\\item[Greenland] 840\n",
       "\\item[New Guinea] 306\n",
       "\\item[Borneo] 280\n",
       "\\item[Madagascar] 227\n",
       "\\item[Baffin] 184\n",
       "\\item[Sumatra] 183\n",
       "\\item[Honshu] 89\n",
       "\\item[Britain] 84\n",
       "\\end{description*}\n"
      ],
      "text/markdown": [
       "Asia\n",
       ":   16988Africa\n",
       ":   11506North America\n",
       ":   9390South America\n",
       ":   6795Antarctica\n",
       ":   5500Europe\n",
       ":   3745Australia\n",
       ":   2968Greenland\n",
       ":   840New Guinea\n",
       ":   306Borneo\n",
       ":   280Madagascar\n",
       ":   227Baffin\n",
       ":   184Sumatra\n",
       ":   183Honshu\n",
       ":   89Britain\n",
       ":   84\n",
       "\n"
      ],
      "text/plain": [
       "         Asia        Africa North America South America    Antarctica \n",
       "        16988         11506          9390          6795          5500 \n",
       "       Europe     Australia     Greenland    New Guinea        Borneo \n",
       "         3745          2968           840           306           280 \n",
       "   Madagascar        Baffin       Sumatra        Honshu       Britain \n",
       "          227           184           183            89            84 "
      ]
     },
     "metadata": {},
     "output_type": "display_data"
    }
   ],
   "source": [
    "# Display the names of 15 smallest and largest continents/islands.\n",
    "sort(islands) -> smallest; smallest[1:15]\n",
    "rev(sort(islands)) -> largest; largest[1:15]"
   ]
  },
  {
   "cell_type": "code",
   "execution_count": 28,
   "metadata": {},
   "outputs": [
    {
     "data": {
      "text/html": [
       "<dl class=dl-horizontal>\n",
       "\t<dt>Africa</dt>\n",
       "\t\t<dd>29800.54</dd>\n",
       "\t<dt>Antarctica</dt>\n",
       "\t\t<dd>14245</dd>\n",
       "\t<dt>Asia</dt>\n",
       "\t\t<dd>43998.92</dd>\n",
       "\t<dt>Australia</dt>\n",
       "\t\t<dd>7687.12</dd>\n",
       "\t<dt>Axel Heiberg</dt>\n",
       "\t\t<dd>41.44</dd>\n",
       "\t<dt>Baffin</dt>\n",
       "\t\t<dd>476.56</dd>\n",
       "\t<dt>Banks</dt>\n",
       "\t\t<dd>59.57</dd>\n",
       "\t<dt>Borneo</dt>\n",
       "\t\t<dd>725.2</dd>\n",
       "\t<dt>Britain</dt>\n",
       "\t\t<dd>217.56</dd>\n",
       "\t<dt>Celebes</dt>\n",
       "\t\t<dd>189.07</dd>\n",
       "\t<dt>Celon</dt>\n",
       "\t\t<dd>64.75</dd>\n",
       "\t<dt>Cuba</dt>\n",
       "\t\t<dd>111.37</dd>\n",
       "\t<dt>Devon</dt>\n",
       "\t\t<dd>54.39</dd>\n",
       "\t<dt>Ellesmere</dt>\n",
       "\t\t<dd>212.38</dd>\n",
       "\t<dt>Europe</dt>\n",
       "\t\t<dd>9699.55</dd>\n",
       "\t<dt>Greenland</dt>\n",
       "\t\t<dd>2175.6</dd>\n",
       "\t<dt>Hainan</dt>\n",
       "\t\t<dd>33.67</dd>\n",
       "\t<dt>Hispaniola</dt>\n",
       "\t\t<dd>77.7</dd>\n",
       "\t<dt>Hokkaido</dt>\n",
       "\t\t<dd>77.7</dd>\n",
       "\t<dt>Honshu</dt>\n",
       "\t\t<dd>230.51</dd>\n",
       "\t<dt>Iceland</dt>\n",
       "\t\t<dd>103.6</dd>\n",
       "\t<dt>Ireland</dt>\n",
       "\t\t<dd>85.47</dd>\n",
       "\t<dt>Java</dt>\n",
       "\t\t<dd>126.91</dd>\n",
       "\t<dt>Kyushu</dt>\n",
       "\t\t<dd>36.26</dd>\n",
       "\t<dt>Luzon</dt>\n",
       "\t\t<dd>108.78</dd>\n",
       "\t<dt>Madagascar</dt>\n",
       "\t\t<dd>587.93</dd>\n",
       "\t<dt>Melville</dt>\n",
       "\t\t<dd>41.44</dd>\n",
       "\t<dt>Mindanao</dt>\n",
       "\t\t<dd>93.24</dd>\n",
       "\t<dt>Moluccas</dt>\n",
       "\t\t<dd>75.11</dd>\n",
       "\t<dt>New Britain</dt>\n",
       "\t\t<dd>38.85</dd>\n",
       "\t<dt>New Guinea</dt>\n",
       "\t\t<dd>792.54</dd>\n",
       "\t<dt>New Zealand (N)</dt>\n",
       "\t\t<dd>113.96</dd>\n",
       "\t<dt>New Zealand (S)</dt>\n",
       "\t\t<dd>150.22</dd>\n",
       "\t<dt>Newfoundland</dt>\n",
       "\t\t<dd>111.37</dd>\n",
       "\t<dt>North America</dt>\n",
       "\t\t<dd>24320.1</dd>\n",
       "\t<dt>Novaya Zemlya</dt>\n",
       "\t\t<dd>82.88</dd>\n",
       "\t<dt>Prince of Wales</dt>\n",
       "\t\t<dd>33.67</dd>\n",
       "\t<dt>Sakhalin</dt>\n",
       "\t\t<dd>75.11</dd>\n",
       "\t<dt>South America</dt>\n",
       "\t\t<dd>17599.05</dd>\n",
       "\t<dt>Southampton</dt>\n",
       "\t\t<dd>41.44</dd>\n",
       "\t<dt>Spitsbergen</dt>\n",
       "\t\t<dd>38.85</dd>\n",
       "\t<dt>Sumatra</dt>\n",
       "\t\t<dd>473.97</dd>\n",
       "\t<dt>Taiwan</dt>\n",
       "\t\t<dd>36.26</dd>\n",
       "\t<dt>Tasmania</dt>\n",
       "\t\t<dd>67.34</dd>\n",
       "\t<dt>Tierra del Fuego</dt>\n",
       "\t\t<dd>49.21</dd>\n",
       "\t<dt>Timor</dt>\n",
       "\t\t<dd>33.67</dd>\n",
       "\t<dt>Vancouver</dt>\n",
       "\t\t<dd>31.08</dd>\n",
       "\t<dt>Victoria</dt>\n",
       "\t\t<dd>212.38</dd>\n",
       "</dl>\n"
      ],
      "text/latex": [
       "\\begin{description*}\n",
       "\\item[Africa] 29800.54\n",
       "\\item[Antarctica] 14245\n",
       "\\item[Asia] 43998.92\n",
       "\\item[Australia] 7687.12\n",
       "\\item[Axel Heiberg] 41.44\n",
       "\\item[Baffin] 476.56\n",
       "\\item[Banks] 59.57\n",
       "\\item[Borneo] 725.2\n",
       "\\item[Britain] 217.56\n",
       "\\item[Celebes] 189.07\n",
       "\\item[Celon] 64.75\n",
       "\\item[Cuba] 111.37\n",
       "\\item[Devon] 54.39\n",
       "\\item[Ellesmere] 212.38\n",
       "\\item[Europe] 9699.55\n",
       "\\item[Greenland] 2175.6\n",
       "\\item[Hainan] 33.67\n",
       "\\item[Hispaniola] 77.7\n",
       "\\item[Hokkaido] 77.7\n",
       "\\item[Honshu] 230.51\n",
       "\\item[Iceland] 103.6\n",
       "\\item[Ireland] 85.47\n",
       "\\item[Java] 126.91\n",
       "\\item[Kyushu] 36.26\n",
       "\\item[Luzon] 108.78\n",
       "\\item[Madagascar] 587.93\n",
       "\\item[Melville] 41.44\n",
       "\\item[Mindanao] 93.24\n",
       "\\item[Moluccas] 75.11\n",
       "\\item[New Britain] 38.85\n",
       "\\item[New Guinea] 792.54\n",
       "\\item[New Zealand (N)] 113.96\n",
       "\\item[New Zealand (S)] 150.22\n",
       "\\item[Newfoundland] 111.37\n",
       "\\item[North America] 24320.1\n",
       "\\item[Novaya Zemlya] 82.88\n",
       "\\item[Prince of Wales] 33.67\n",
       "\\item[Sakhalin] 75.11\n",
       "\\item[South America] 17599.05\n",
       "\\item[Southampton] 41.44\n",
       "\\item[Spitsbergen] 38.85\n",
       "\\item[Sumatra] 473.97\n",
       "\\item[Taiwan] 36.26\n",
       "\\item[Tasmania] 67.34\n",
       "\\item[Tierra del Fuego] 49.21\n",
       "\\item[Timor] 33.67\n",
       "\\item[Vancouver] 31.08\n",
       "\\item[Victoria] 212.38\n",
       "\\end{description*}\n"
      ],
      "text/markdown": [
       "Africa\n",
       ":   29800.54Antarctica\n",
       ":   14245Asia\n",
       ":   43998.92Australia\n",
       ":   7687.12Axel Heiberg\n",
       ":   41.44Baffin\n",
       ":   476.56Banks\n",
       ":   59.57Borneo\n",
       ":   725.2Britain\n",
       ":   217.56Celebes\n",
       ":   189.07Celon\n",
       ":   64.75Cuba\n",
       ":   111.37Devon\n",
       ":   54.39Ellesmere\n",
       ":   212.38Europe\n",
       ":   9699.55Greenland\n",
       ":   2175.6Hainan\n",
       ":   33.67Hispaniola\n",
       ":   77.7Hokkaido\n",
       ":   77.7Honshu\n",
       ":   230.51Iceland\n",
       ":   103.6Ireland\n",
       ":   85.47Java\n",
       ":   126.91Kyushu\n",
       ":   36.26Luzon\n",
       ":   108.78Madagascar\n",
       ":   587.93Melville\n",
       ":   41.44Mindanao\n",
       ":   93.24Moluccas\n",
       ":   75.11New Britain\n",
       ":   38.85New Guinea\n",
       ":   792.54New Zealand (N)\n",
       ":   113.96New Zealand (S)\n",
       ":   150.22Newfoundland\n",
       ":   111.37North America\n",
       ":   24320.1Novaya Zemlya\n",
       ":   82.88Prince of Wales\n",
       ":   33.67Sakhalin\n",
       ":   75.11South America\n",
       ":   17599.05Southampton\n",
       ":   41.44Spitsbergen\n",
       ":   38.85Sumatra\n",
       ":   473.97Taiwan\n",
       ":   36.26Tasmania\n",
       ":   67.34Tierra del Fuego\n",
       ":   49.21Timor\n",
       ":   33.67Vancouver\n",
       ":   31.08Victoria\n",
       ":   212.38\n",
       "\n"
      ],
      "text/plain": [
       "          Africa       Antarctica             Asia        Australia \n",
       "        29800.54         14245.00         43998.92          7687.12 \n",
       "    Axel Heiberg           Baffin            Banks           Borneo \n",
       "           41.44           476.56            59.57           725.20 \n",
       "         Britain          Celebes            Celon             Cuba \n",
       "          217.56           189.07            64.75           111.37 \n",
       "           Devon        Ellesmere           Europe        Greenland \n",
       "           54.39           212.38          9699.55          2175.60 \n",
       "          Hainan       Hispaniola         Hokkaido           Honshu \n",
       "           33.67            77.70            77.70           230.51 \n",
       "         Iceland          Ireland             Java           Kyushu \n",
       "          103.60            85.47           126.91            36.26 \n",
       "           Luzon       Madagascar         Melville         Mindanao \n",
       "          108.78           587.93            41.44            93.24 \n",
       "        Moluccas      New Britain       New Guinea  New Zealand (N) \n",
       "           75.11            38.85           792.54           113.96 \n",
       " New Zealand (S)     Newfoundland    North America    Novaya Zemlya \n",
       "          150.22           111.37         24320.10            82.88 \n",
       " Prince of Wales         Sakhalin    South America      Southampton \n",
       "           33.67            75.11         17599.05            41.44 \n",
       "     Spitsbergen          Sumatra           Taiwan         Tasmania \n",
       "           38.85           473.97            36.26            67.34 \n",
       "Tierra del Fuego            Timor        Vancouver         Victoria \n",
       "           49.21            33.67            31.08           212.38 "
      ]
     },
     "metadata": {},
     "output_type": "display_data"
    }
   ],
   "source": [
    "# Assuming that these are British miles, recalculate the data to km2 (1 sq mi = 2.59 km2)\n",
    "data_to_km2 <- islands * 2.59\n",
    "data_to_km2"
   ]
  },
  {
   "cell_type": "code",
   "execution_count": null,
   "metadata": {},
   "outputs": [],
   "source": []
  }
 ],
 "metadata": {
  "kernelspec": {
   "display_name": "Python 3",
   "language": "python",
   "name": "python3"
  },
  "language_info": {
   "codemirror_mode": {
    "name": "ipython",
    "version": 3
   },
   "file_extension": ".py",
   "mimetype": "text/x-python",
   "name": "python",
   "nbconvert_exporter": "python",
   "pygments_lexer": "ipython3",
   "version": "3.8.5"
  }
 },
 "nbformat": 4,
 "nbformat_minor": 4
}
