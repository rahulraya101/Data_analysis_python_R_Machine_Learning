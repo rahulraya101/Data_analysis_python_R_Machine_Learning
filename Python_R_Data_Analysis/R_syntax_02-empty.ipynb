{
 "cells": [
  {
   "cell_type": "markdown",
   "metadata": {},
   "source": [
    "# R syntax in a nutshell – Part II\n",
    "* 1.6 Arrays, matrices, data frames\n",
    "* 1.7 Building simple databases: indexing/subsetting of vectors, arrays and data frames\n",
    "* 1.8 Lists\n",
    "* 1.9 Coercion of individual object types"
   ]
  },
  {
   "cell_type": "markdown",
   "metadata": {
    "scrolled": true
   },
   "source": [
    "## 1.6\tArrays, matrices, data frames\n",
    "Several kinds of table-like objects exist in R. **Data frames** are data objects to be processed by statistics, with “observations” as columns (elements/oxides in geochemistry) and “cases” (samples) in rows. They can contain columns of any mode, even mixed modes; thus they are not meant for matrix operations.\n",
    "\n",
    "On the other hand, all elements of a **matrix** can only be of a single mode (numeric, most commonly). **Arrays** are generalized matrices: they must have a single mode but can have any number of dimensions. Although superficially similar, these three types of objects must not be confused."
   ]
  },
  {
   "cell_type": "markdown",
   "metadata": {},
   "source": [
    "#### matrix(data = NA, nrow = 1, ncol = 1, byrow = FALSE)\n",
    "This command defines a matrix of `nrow` rows and `ncol` columns, filled by the data (if `data` have several elements, they will be used down the columns, unless an extra parameter `byrow=TRUE` is provided). For instance:"
   ]
  },
  {
   "cell_type": "code",
   "execution_count": null,
   "metadata": {},
   "outputs": [],
   "source": [
    "x <- matrix(1:12,3,4)\n",
    "print(x)"
   ]
  },
  {
   "cell_type": "code",
   "execution_count": null,
   "metadata": {},
   "outputs": [],
   "source": [
    "x <- matrix(1:12,3,4,byrow=TRUE)\n",
    "print(x)"
   ]
  },
  {
   "cell_type": "markdown",
   "metadata": {},
   "source": [
    "<img src=\"images/warning-icon.png\" style=\"float:left;width:32px;height:32px;\">\n",
    "As a default, filling a matrix with data — as well as matrix division by a vector — proceeds along columns, not rows!"
   ]
  },
  {
   "cell_type": "markdown",
   "metadata": {},
   "source": [
    "#### array(data = NA, dim = length(data))\n",
    "Defines a new data array and fills it with `data`. The argument `dim` is a vector of length one or more, giving maximal dimensions in each of the directions."
   ]
  },
  {
   "cell_type": "markdown",
   "metadata": {},
   "source": [
    "### 1.6.1\tMatrix/data frame operations\n",
    "Matrices can be subject to scalar operations using the common operators (`+-*/^`). Similar to vectors, the shorter component is recycled as appropriate. Useful functions for matrix/data frame manipulations are summarized in the following Table:"
   ]
  },
  {
   "cell_type": "markdown",
   "metadata": {},
   "source": [
    "|Function|Meaning|\n",
    "|:---|:---|\n",
    "|`nrow(x)`|number of rows|\n",
    "|`ncol(x)`|number of columns|\n",
    "|`rownames(x)` |row names|\n",
    "|`colnames(x)`|column names|\n",
    "|`rbind(x,y)`|binds two objects (matrices or data frames) of the same `ncol` (or vectors of the same length) as rows|\n",
    "|`cbind(x,y)`|binds two objects (matrices or data frames) of the same `nrow` (or vectors of the same length) as columns|\n",
    "|`t(x)` |matrix transposition|\n",
    "|`apply(X,MARGIN,FUN)` |applies function `FUN` (for vector manipulations) along the rows (`MARGIN` = 1) or columns (`MARGIN` = 2) of a data matrix `X`|\n",
    "|`x%*%y`|matrix multiplication (does not work on a data frame!)|\n",
    "|`solve(A)`|matrix inversion|\n",
    "|`dix(x)`|diagonal elements of a matrix|\n"
   ]
  },
  {
   "cell_type": "markdown",
   "metadata": {},
   "source": [
    "It is worth noting that matrix multiplication is performed using the `%*%` operator. "
   ]
  },
  {
   "cell_type": "markdown",
   "metadata": {},
   "source": [
    "<img src=\"images/exercise-icon.png\" style=\"float:left;width:40px;height:40px;\">\n",
    "The function `solve` can serve to solving a set of linear argebraic equations. \n",
    "Here is an example; we shal try to solve the following set of linear equations:"
   ]
  },
  {
   "cell_type": "markdown",
   "metadata": {},
   "source": [
    "x \t+\t2y\t–\t0.7z\t=\t21\n",
    "\n",
    "3x\t+\t0.2y\t–\tz\t=\t24\n",
    "\n",
    "0.9x\t+\t7y\t–\t2z\t=\t27\n",
    "\n",
    "Let's first specify the matrix of coeffients to the individual variables:"
   ]
  },
  {
   "cell_type": "code",
   "execution_count": null,
   "metadata": {},
   "outputs": [],
   "source": [
    "A <- matrix(c(1,3,0.9,2,0.2,7,-0.7,-1,-2),3,3)\n",
    "print(A) "
   ]
  },
  {
   "cell_type": "markdown",
   "metadata": {},
   "source": [
    "And then the vector of right hand sides:"
   ]
  },
  {
   "cell_type": "code",
   "execution_count": null,
   "metadata": {},
   "outputs": [],
   "source": [
    "y <- c(21,24,27)\n",
    "y"
   ]
  },
  {
   "cell_type": "code",
   "execution_count": null,
   "metadata": {},
   "outputs": [],
   "source": [
    "x <- solve(A,y)\n",
    "x"
   ]
  },
  {
   "cell_type": "code",
   "execution_count": null,
   "metadata": {},
   "outputs": [],
   "source": [
    "# checking the result, back-calculating y\n",
    "print(A%*%x)"
   ]
  },
  {
   "cell_type": "markdown",
   "metadata": {},
   "source": [
    "Of the functions presented in the table, some explanation is required for `apply`:\n",
    "#### apply(X, MARGIN, FUN,…)\n",
    "If `X` is a matrix, it is split into vectors along rows (if `MARGIN` = 1) or columns (if `MARGIN` = 2). To each of these vectors is applied the function `FUN` with optional parameters `…` passed to it. \n",
    "For instance, we can calculate row sums of a matrix:"
   ]
  },
  {
   "cell_type": "code",
   "execution_count": null,
   "metadata": {},
   "outputs": [],
   "source": [
    "x <- matrix(1:12,3,4,byrow=TRUE)\n",
    "print(x)\n",
    "apply(x,1,sum)"
   ]
  },
  {
   "cell_type": "markdown",
   "metadata": {},
   "source": [
    "## 1.7\tBuilding simple databases: indexing/subsetting of vectors, arrays and data frames\n",
    "In real life, one often needs to select some elements of a vector or a matrix, fulfilling certain criteria. This can be achieved using logical conditions or logical variables placed in **square brackets** after the object name. Subsets can be also used on the left hand side of the assignments when replacement of selected elements by certain values is desired.  \n",
    "### 1.7.1\tVectors\n",
    "Subsets of a vector may be selected by appending to the name of the vector an index vector in square brackets. For example, we can first create a named vector:"
   ]
  },
  {
   "cell_type": "code",
   "execution_count": null,
   "metadata": {},
   "outputs": [],
   "source": [
    "x <- c(1,12,15,NA,16,13,0,NA,NA)\n",
    "names(x) <- c(\"Pl\",\"Bt\",\"Mu\",\"Q\",\"Kfs\",\"Ky\",\"Ol\",\"Px\",\"C\") \n",
    "print(x)"
   ]
  },
  {
   "cell_type": "markdown",
   "metadata": {},
   "source": [
    "Index vectors can be of several types: logical, numeric (with positive or negative values), and character:"
   ]
  },
  {
   "cell_type": "markdown",
   "metadata": {},
   "source": [
    "#### 1.\tLogical vector"
   ]
  },
  {
   "cell_type": "code",
   "execution_count": null,
   "metadata": {},
   "outputs": [],
   "source": [
    "x[x>10]      # all elements of x higher than 10 (or NA)\n",
    "x[!is.na(x)] # all elements of x that are available"
   ]
  },
  {
   "cell_type": "markdown",
   "metadata": {},
   "source": [
    "#### 2.\tNumeric vector with positive values"
   ]
  },
  {
   "cell_type": "code",
   "execution_count": null,
   "metadata": {},
   "outputs": [],
   "source": [
    "x[1:5]      # the first five elements\n",
    "x[c(1,5,7)] # 1st, 5th and 7th elements"
   ]
  },
  {
   "cell_type": "markdown",
   "metadata": {},
   "source": [
    "#### 3.\tNumeric vector with negative values (specifies elements to be excluded)"
   ]
  },
  {
   "cell_type": "code",
   "execution_count": null,
   "metadata": {},
   "outputs": [],
   "source": [
    "x\n",
    "x[-(1:5)] # all elements except for the first five"
   ]
  },
  {
   "cell_type": "markdown",
   "metadata": {},
   "source": [
    "#### 4.\tCharacter vector (referring to the element names)"
   ]
  },
  {
   "cell_type": "code",
   "execution_count": null,
   "metadata": {},
   "outputs": [],
   "source": [
    "x[c(\"Q\",\"Bt\",\"Mu\")]"
   ]
  },
  {
   "cell_type": "markdown",
   "metadata": {},
   "source": [
    "### 1.7.2\tMatrices/data frames\n",
    "Elements of a matrix are presented in the order `[row,column]`. If nothing is given for a `row` or `column`, it means no restriction. For instance:\n",
    "```R\n",
    "x[1,]          # (all columns) of the first row\n",
    "x[,c(1,3)]     # (all rows) of the first and third columns\n",
    "x[1:3,-2]      # all columns (apart from the 2nd) of rows 1–3\n",
    "```\n",
    "If the result is a single row or column, it is automatically converted to a vector. To prevent such a behaviour, one can supply an optional parameter `drop=FALSE`, e.g.:\n",
    "```R\n",
    "x[1,,drop=FALSE]   # (all columns) of the 1st row, keep as matrix\n",
    "```\n",
    "\n",
    "Moreover, matrices can be manipulated using index arrays. This concept is best explained on an example. Let’s assume a matrix defined as:\n",
    "```R\n",
    "x <- matrix(1:20,4,5)\n",
    "```\n",
    "If the elements `[1,3]`, `[2,2]` and `[3,1]` in `x` are to be replaced by zeroes, we can create an  index array `i` containing the element coordinates:"
   ]
  },
  {
   "cell_type": "code",
   "execution_count": null,
   "metadata": {},
   "outputs": [],
   "source": [
    "x <- matrix(1:20,4,5)\n",
    "print(x)"
   ]
  },
  {
   "cell_type": "code",
   "execution_count": null,
   "metadata": {},
   "outputs": [],
   "source": [
    "print(x[1,])\n",
    "print(x[1,,drop=FALSE])"
   ]
  },
  {
   "cell_type": "code",
   "execution_count": null,
   "metadata": {},
   "outputs": [],
   "source": [
    "print(x[,c(1,3)])"
   ]
  },
  {
   "cell_type": "code",
   "execution_count": null,
   "metadata": {},
   "outputs": [],
   "source": [
    "print(x[1:3,-2])"
   ]
  },
  {
   "cell_type": "code",
   "execution_count": null,
   "metadata": {},
   "outputs": [],
   "source": [
    "x <- matrix(1:20,4,5)\n",
    "print(x)\n",
    "i <- matrix(c(1,2,3,3,2,1),3,2)\n",
    "print(i)"
   ]
  },
  {
   "cell_type": "code",
   "execution_count": null,
   "metadata": {},
   "outputs": [],
   "source": [
    "x[i]"
   ]
  },
  {
   "cell_type": "code",
   "execution_count": null,
   "metadata": {},
   "outputs": [],
   "source": [
    "x[i] <- 0\n",
    "print(x)"
   ]
  },
  {
   "cell_type": "markdown",
   "metadata": {},
   "source": [
    "The situation for multidimensional arrays is analogous — just the relevant number of dimensions is higher than two."
   ]
  },
  {
   "cell_type": "markdown",
   "metadata": {},
   "source": [
    "## 1.8\tLists\n",
    "Lists are ordered collections of other objects, known as components, which do not have to be of the same mode or type. Thus lists can be viewed as very loose groupings of R objects, involving various types of vectors, data frames, arrays, functions and even other lists. \n",
    "\n",
    "Components are numbered and hence can be addressed using their sequence number given in double square brackets, `x[[3]]`. \n",
    "Moreover, components may be named and referenced using an expression of the form `list_name$component_name`. Subsetting is similar to that of other objects, described above.\n",
    "#### list.name <- list(component_name_1=, component_name_2=…) \n",
    "Builds a list with the given components.\n",
    "\n",
    "Here is a simple real-life example of a list definition:"
   ]
  },
  {
   "cell_type": "code",
   "execution_count": null,
   "metadata": {},
   "outputs": [],
   "source": [
    "x1 <- c(\"Luckovice\",\"9 km E of Blatna\",\"disused quarry\")\n",
    "x2 <- \"melamonzonite\"\n",
    "x3 <- c(47.31,1.05,14.94,7.01,8.46,10.33)\n",
    "names(x3) <- c(\"SiO2\",\"TiO2\",\"Al2O3\",\"FeO\",\"MgO\",\"CaO\")\n",
    "luc <- list(ID=\"Gbl-4\",Locality=x1,Rock=x2,major=x3)\n",
    "print(luc)"
   ]
  },
  {
   "cell_type": "markdown",
   "metadata": {},
   "source": [
    "As well as some examples of subsetting:"
   ]
  },
  {
   "cell_type": "code",
   "execution_count": null,
   "metadata": {},
   "outputs": [],
   "source": [
    "luc[[1]]"
   ]
  },
  {
   "cell_type": "code",
   "execution_count": null,
   "metadata": {},
   "outputs": [],
   "source": [
    "luc$Rock # or luckovice[[3]]"
   ]
  },
  {
   "cell_type": "code",
   "execution_count": null,
   "metadata": {},
   "outputs": [],
   "source": [
    "luc[[2]][3]"
   ]
  },
  {
   "cell_type": "code",
   "execution_count": null,
   "metadata": {},
   "outputs": [],
   "source": [
    "luc$major[c(\"SiO2\",\"Al2O3\")]"
   ]
  },
  {
   "cell_type": "markdown",
   "metadata": {},
   "source": [
    "## 1.9\tCoercion of individual object types\n",
    "R is generally reasonably good at dealing seamlessly with data types, converting them on the fly when needed. When necessary, there are a series of functions for testing the mode (or type) of an object:\n",
    "`is.numeric(x)`, `is.character(x)`, `is.logical(x)`, `is.matrix(x)`, `is.data.frame(x)`\n",
    "\n",
    "At times there is a need to explicitly convert between data types/modes using functions such as:\n",
    "`as.numeric(x)`, `as.character(x)`, `as.expression(x)`.\n",
    "\n",
    "Less straightforward are:\n",
    "`as.matrix(x)`, `as.data.frame(x)` \n",
    "which attempt to convert an object `x` to a matrix or data frame, respectively. \n",
    "\n",
    "A more user-friendly way of converting data frames to matrices is provided by the function `data.matrix` that converts all the variables in a data frame `x` to numeric mode and then binds them together as the columns of a matrix."
   ]
  },
  {
   "cell_type": "code",
   "execution_count": null,
   "metadata": {},
   "outputs": [],
   "source": [
    "as.numeric(\"1.5444\")*2"
   ]
  },
  {
   "cell_type": "code",
   "execution_count": null,
   "metadata": {
    "collapsed": true
   },
   "outputs": [],
   "source": []
  }
 ],
 "metadata": {
  "kernelspec": {
   "display_name": "R",
   "language": "R",
   "name": "ir"
  },
  "language_info": {
   "codemirror_mode": "r",
   "file_extension": ".r",
   "mimetype": "text/x-r-source",
   "name": "R",
   "pygments_lexer": "r",
   "version": "4.0.0"
  }
 },
 "nbformat": 4,
 "nbformat_minor": 1
}
